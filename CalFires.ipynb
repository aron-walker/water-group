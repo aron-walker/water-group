{
 "cells": [
  {
   "cell_type": "markdown",
   "id": "280c136f",
   "metadata": {},
   "source": [
    "## California Wildfires Over Time\n",
    "##### In this notebook, we will be demonstrating a visual analysis of fire frequency over time. Fire data obtained from CALFIRE will be divided into decade categories and mapped on to seperate subplots of California. This is paired with out qualitative analysis of the worsening impacts of climate change over the last 6 decades."
   ]
  },
  {
   "cell_type": "markdown",
   "id": "3dcf3a83",
   "metadata": {},
   "source": [
    "#### We will first import the required libraries for data manipulation, visualization, and map rendering."
   ]
  },
  {
   "cell_type": "code",
   "execution_count": 1,
   "id": "1f0f81f7",
   "metadata": {},
   "outputs": [],
   "source": [
    "import geopandas as gpd\n",
    "import matplotlib.pyplot as plt\n",
    "import contextily as ctx"
   ]
  },
  {
   "cell_type": "markdown",
   "id": "3695dd1e",
   "metadata": {},
   "source": [
    "##### We now have the libraries available for use. No import errors as expected."
   ]
  },
  {
   "cell_type": "markdown",
   "id": "f0ccd252",
   "metadata": {},
   "source": [
    "##### Next, we will load the GeoJSON data for the state boundary and fire perimeters, convert the YEAR_ column to a numeric type, and extract the decade from the fire start year. Additionally, we will clip the fire perimeters to the state boundary."
   ]
  },
  {
   "cell_type": "code",
   "execution_count": 2,
   "id": "01283749",
   "metadata": {},
   "outputs": [
    {
     "ename": "NameError",
     "evalue": "name 'pd' is not defined",
     "output_type": "error",
     "traceback": [
      "\u001b[0;31m---------------------------------------------------------------------------\u001b[0m",
      "\u001b[0;31mNameError\u001b[0m                                 Traceback (most recent call last)",
      "Cell \u001b[0;32mIn[2], line 10\u001b[0m\n\u001b[1;32m      7\u001b[0m fires \u001b[38;5;241m=\u001b[39m gpd\u001b[38;5;241m.\u001b[39mread_file(fire_path)\n\u001b[1;32m      9\u001b[0m \u001b[38;5;66;03m# Convert YEAR_ column to numeric type\u001b[39;00m\n\u001b[0;32m---> 10\u001b[0m fires[\u001b[38;5;124m'\u001b[39m\u001b[38;5;124mYEAR_\u001b[39m\u001b[38;5;124m'\u001b[39m] \u001b[38;5;241m=\u001b[39m \u001b[43mpd\u001b[49m\u001b[38;5;241m.\u001b[39mto_numeric(fires[\u001b[38;5;124m'\u001b[39m\u001b[38;5;124mYEAR_\u001b[39m\u001b[38;5;124m'\u001b[39m], errors\u001b[38;5;241m=\u001b[39m\u001b[38;5;124m'\u001b[39m\u001b[38;5;124mcoerce\u001b[39m\u001b[38;5;124m'\u001b[39m)\n\u001b[1;32m     12\u001b[0m \u001b[38;5;66;03m# Extract the decade from the fire start year\u001b[39;00m\n\u001b[1;32m     13\u001b[0m fires[\u001b[38;5;124m'\u001b[39m\u001b[38;5;124mdecade\u001b[39m\u001b[38;5;124m'\u001b[39m] \u001b[38;5;241m=\u001b[39m (fires[\u001b[38;5;124m'\u001b[39m\u001b[38;5;124mYEAR_\u001b[39m\u001b[38;5;124m'\u001b[39m] \u001b[38;5;241m/\u001b[39m\u001b[38;5;241m/\u001b[39m \u001b[38;5;241m10\u001b[39m) \u001b[38;5;241m*\u001b[39m \u001b[38;5;241m10\u001b[39m\n",
      "\u001b[0;31mNameError\u001b[0m: name 'pd' is not defined"
     ]
    }
   ],
   "source": [
    "# Load the GeoJSON data for the state boundary\n",
    "state_path = \"/Users/matthewaijala/Desktop/wildfires over time/castateboundary_reprojected.geojson\"\n",
    "state_boundary = gpd.read_file(state_path)\n",
    "\n",
    "# Load the GeoJSON data for the fire perimeters\n",
    "fire_path = \"/Users/matthewaijala/Desktop/wildfires over time/California_Fire_Perimeters_(all)_reprojected.geojson\"\n",
    "fires = gpd.read_file(fire_path)\n",
    "\n",
    "# Convert YEAR_ column to numeric type\n",
    "fires['YEAR_'] = pd.to_numeric(fires['YEAR_'], errors='coerce')\n",
    "\n",
    "# Extract the decade from the fire start year\n",
    "fires['decade'] = (fires['YEAR_'] // 10) * 10\n",
    "\n",
    "# Clip the fire perimeters to the state boundary\n",
    "fires = gpd.clip(fires, state_boundary)"
   ]
  },
  {
   "cell_type": "markdown",
   "id": "a0c1a724",
   "metadata": {},
   "source": [
    "#### We now have the pertinent data from our geojson available for our use. We have seperated all fires into decade categories for later plotting."
   ]
  },
  {
   "cell_type": "markdown",
   "id": "936ac848",
   "metadata": {},
   "source": [
    "#### Next, we will define a dictionary that maps each decade to a color for the fire perimeters and set the color for the terrain tiles. We will also define the title font properties for the subplots."
   ]
  },
  {
   "cell_type": "code",
   "execution_count": null,
   "id": "696c00a0",
   "metadata": {},
   "outputs": [],
   "source": [
    "# Define a dictionary that maps each decade to a color\n",
    "decade_colors = {\n",
    "    1960: 'red',\n",
    "    1970: 'orange',\n",
    "    1980: 'yellow',\n",
    "    1990: 'green',\n",
    "    2000: 'blue',\n",
    "    2010: 'purple'\n",
    "}\n",
    "\n",
    "# Define the color for the terrain tiles\n",
    "terrain_color = 'gray'\n",
    "\n",
    "# Define the title font properties\n",
    "title_font_size = 20\n",
    "title_font = {'family': 'serif', 'weight': 'bold', 'size': title_font_size}"
   ]
  },
  {
   "cell_type": "markdown",
   "id": "faf7dbad",
   "metadata": {},
   "source": [
    "#### The style for each decade is established."
   ]
  },
  {
   "cell_type": "markdown",
   "id": "da351627",
   "metadata": {},
   "source": [
    "##### Next, we will create a grid of subplots for each decade. For each decade, we will filter the fires, add the state boundary, fire perimeters, and terrain tiles to the map, and set the title with custom font properties."
   ]
  },
  {
   "cell_type": "code",
   "execution_count": null,
   "id": "98b4fbbd",
   "metadata": {},
   "outputs": [],
   "source": [
    "# Create a grid of subplots for each decade\n",
    "fig, axes = plt.subplots(nrows=2, ncols=3, figsize=(30, 15))\n",
    "axes = axes.flatten()\n",
    "\n",
    "# Iterate over each decade and create a map in the corresponding subplot\n",
    "for i, decade in enumerate([1960, 1970, 1980, 1990, 2000, 2010]):\n",
    "    # Filter the fires for the current decade\n",
    "    decade_fires = fires[fires['decade'] == decade]\n",
    "\n",
    "    # Add the state boundary to the map\n",
    "    state_boundary.plot(ax=axes[i], facecolor='none', edgecolor='black', linewidth=2)\n",
    "\n",
    "    # Add the fire perimeters to the map\n",
    "    decade_fires.plot(ax=axes[i], color=decade_colors[decade], alpha=0.7, linewidth=0.5, edgecolor='k', legend=False)\n",
    "\n",
    "    # Add the terrain tiles to the map\n",
    "    ctx.add_basemap(ax=axes[i], crs=state_boundary.crs.to_string(), source=ctx.providers.Stamen.Terrain, alpha=0.2, cmap=terrain_color)\n",
    "\n",
    "    # Set the title with the custom font properties\n",
    "    axes[i].set_title(f\"Fires in California in the {decade}s\", fontdict=title_font, loc='left')\n",
    "    axes[i].set_axis_off()"
   ]
  },
  {
   "cell_type": "markdown",
   "id": "e9fa1841",
   "metadata": {},
   "source": [
    "#### Now that each subplot has been styalistically edited as necessary, we just need to display them."
   ]
  },
  {
   "cell_type": "markdown",
   "id": "5c03a826",
   "metadata": {},
   "source": [
    "#### Finally, we will adjust the spacing of the subplots and display them."
   ]
  },
  {
   "cell_type": "code",
   "execution_count": null,
   "id": "615400ec",
   "metadata": {},
   "outputs": [],
   "source": [
    "# Adjust the spacing between subplots\n",
    "plt.subplots_adjust(wspace=0.01, hspace=0.1)\n",
    "\n",
    "plt.show()\n"
   ]
  },
  {
   "cell_type": "markdown",
   "id": "ea4c6463",
   "metadata": {},
   "source": [
    "#### As expected, we can see the fires for each decade in california."
   ]
  },
  {
   "cell_type": "code",
   "execution_count": 3,
   "id": "cf3a8aa6",
   "metadata": {},
   "outputs": [
    {
     "name": "stdout",
     "output_type": "stream",
     "text": [
      "/Users/matthewaijala\n"
     ]
    }
   ],
   "source": [
    "import os\n",
    "print(os.path.abspath(os.getcwd()))\n"
   ]
  },
  {
   "cell_type": "code",
   "execution_count": null,
   "id": "9c33499d",
   "metadata": {},
   "outputs": [],
   "source": []
  }
 ],
 "metadata": {
  "kernelspec": {
   "display_name": "Python 3 (ipykernel)",
   "language": "python",
   "name": "python3"
  },
  "language_info": {
   "codemirror_mode": {
    "name": "ipython",
    "version": 3
   },
   "file_extension": ".py",
   "mimetype": "text/x-python",
   "name": "python",
   "nbconvert_exporter": "python",
   "pygments_lexer": "ipython3",
   "version": "3.11.1"
  }
 },
 "nbformat": 4,
 "nbformat_minor": 5
}
