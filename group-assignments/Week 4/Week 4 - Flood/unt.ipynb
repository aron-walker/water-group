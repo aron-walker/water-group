{
 "cells": [
  {
   "cell_type": "code",
   "execution_count": null,
   "id": "3be5f10a-d45f-4167-b00d-f5e54ec0b11f",
   "metadata": {},
   "outputs": [],
   "source": [
    "def create_map(hazard_file, neighborhood_file, Hazard_Type):\n",
    "    # Load the fire and neighborhood data into GeoDataFrames\n",
    "    fld = gpd.read_file(hazard_file)\n",
    "    neighborhood = gpd.read_file(neighborhood_file)\n",
    "    # Perform the spatial join using geopandas' sjoin method\n",
    "    merged_gdf = gpd.sjoin(fld, neighborhood, how=\"inner\", predicate=\"intersects\")\n",
    "    # Group the resulting GeoDataFrame by neighborhood name and count the number of fires in each neighborhood\n",
    "    grouped_df = merged_gdf.groupby(\"name\").size().reset_index(name=\"hazard_count\")\n",
    "    # Create a folium map\n",
    "    map1 = folium.Map(location=[34, -118],\n",
    "               zoom_start=9,\n",
    "               tiles='https://{s}.basemaps.cartocdn.com/rastertiles/voyager/{z}/{x}/{y}{r}.png',\n",
    "               attr='My Data Attribution')\n",
    "    # Define a color scale\n",
    "    color_scale = folium.LinearColormap(['#00A103', '#F09102', '#FF3300'], vmin=0, vmax=max(grouped_df[\"hazard_count\"]), caption=Hazard_Type).add_to(map1)\n",
    "    # Loop through each neighborhood in the grouped data and add it to the map with a color determined by the fire count\n",
    "    for i, row in grouped_df.iterrows():\n",
    "        folium.GeoJson(neighborhood[neighborhood[\"name\"] == row[\"name\"]],\n",
    "                      style_function=lambda feature, color=color_scale(row[\"hazard_count\"]): {\n",
    "                          'fillColor': color,\n",
    "                          'color': color,\n",
    "                          'fillOpacity': 0.7,\n",
    "                          'weight': 1.5\n",
    "                      }).add_to(map1)\n",
    "    return map1\n",
    "\n",
    "create_map(\"data/flood_r.geojson\", \"data/neighborhood.geojson\", \"Flood Risk\")\n",
    "\n",
    "\n",
    "# Triplet of functions to aggregate intersections\n",
    "def f1(a,b):\n",
    "    return a[0][\"geometry\"].intersection(b[0][\"geometry\"]).area\n",
    "def f2(b,aa):\n",
    "    return sum([f1(a,b) for a in aa])\n",
    "def f3(aa,bb):\n",
    "    return [f2(b,aa) for b in bb]\n",
    "f3(fires,basins)\n",
    "f3(census,fires)\n",
    "\n",
    "fld['sqmi_fld'] = fld['SHAPE_AREA']*0.00000038610215855"
   ]
  }
 ],
 "metadata": {
  "kernelspec": {
   "display_name": "Python 3 (ipykernel)",
   "language": "python",
   "name": "python3"
  },
  "language_info": {
   "codemirror_mode": {
    "name": "ipython",
    "version": 3
   },
   "file_extension": ".py",
   "mimetype": "text/x-python",
   "name": "python",
   "nbconvert_exporter": "python",
   "pygments_lexer": "ipython3",
   "version": "3.10.8"
  }
 },
 "nbformat": 4,
 "nbformat_minor": 5
}
