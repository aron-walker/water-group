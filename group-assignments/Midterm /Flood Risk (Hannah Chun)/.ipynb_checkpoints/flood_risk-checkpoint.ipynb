{
 "cells": [
  {
   "cell_type": "markdown",
   "id": "e71797a2-7385-484a-9163-c39302d85894",
   "metadata": {},
   "source": [
    "# Special Flood Hazard Area (SFHA) Zones in Los Angeles County\n",
    "\n",
    "The following data exploration is on locations within Los Angeles County that the Federal Emergency Management Agency (FEMA) has delieneated as at risk of flooding under a significant rainfall event. This map is based on statistical data for river flow, storm tides, hydrologic/hydraulic analyses, and rainfall and topographic surveys. SFHA Zones have a 25% chance or higher of flooding during a 30-year mortgage [(source)](https://www.buildingincalifornia.com/flood-zones#:~:text=FEMA%20collects%20statistical%20data%20for,show%20risk%20Zones%20for%20flooding). \n",
    "By: Hannah Chun"
   ]
  },
  {
   "cell_type": "markdown",
   "id": "3617eba0-f116-403a-a601-ea0c7e8c2044",
   "metadata": {},
   "source": [
    "### Import all the required libraries"
   ]
  },
  {
   "cell_type": "code",
   "execution_count": 2,
   "id": "ba0df1dd-babf-4662-822e-dd672501c344",
   "metadata": {},
   "outputs": [],
   "source": [
    "# Import geospatial library\n",
    "import geopandas as gpd\n",
    "\n",
    "# Import interactive map\n",
    "import folium"
   ]
  },
  {
   "cell_type": "markdown",
   "id": "1a0ec0c6-a69f-436b-b8e0-e490f5180c27",
   "metadata": {},
   "source": [
    "For this sec"
   ]
  }
 ],
 "metadata": {
  "kernelspec": {
   "display_name": "Python 3 (ipykernel)",
   "language": "python",
   "name": "python3"
  },
  "language_info": {
   "codemirror_mode": {
    "name": "ipython",
    "version": 3
   },
   "file_extension": ".py",
   "mimetype": "text/x-python",
   "name": "python",
   "nbconvert_exporter": "python",
   "pygments_lexer": "ipython3",
   "version": "3.10.8"
  }
 },
 "nbformat": 4,
 "nbformat_minor": 5
}
