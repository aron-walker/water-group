{
 "cells": [
  {
   "cell_type": "markdown",
   "id": "c36691e5-b375-4388-b4bf-1071de368e8a",
   "metadata": {},
   "source": [
    "## Function to Explore Social Vulnerability Index by Neighborhood\n",
    "\n",
    "In order to practice the creation of functions, I will be creating a function where the user inputs the name of a neighborhood, and the geographical boundary of the neighborhood along with the range of Social Vulnerability Index (SoVI) scores within the neighborhood will be outputted. "
   ]
  },
  {
   "cell_type": "code",
   "execution_count": 1,
   "id": "c3df3760-1be6-4447-96e8-1ff80bc375da",
   "metadata": {},
   "outputs": [],
   "source": [
    "# Import spatial analysis libraries\n",
    "import geopandas as gpd\n",
    "import pandas as pd\n",
    "\n",
    "# Import a tool that is needed to create a color-coded legend\n",
    "from branca.colormap import linear\n",
    "\n",
    "# Import interactive map\n",
    "import folium"
   ]
  },
  {
   "cell_type": "markdown",
   "id": "d717468e-7775-4871-9cba-6ed1e34e3bfd",
   "metadata": {},
   "source": [
    "#### The data that will be explored are the neighborhoods in Los Angeles, along with the Social Vulnerability Index scores, which are provided at the Census Tract level."
   ]
  },
  {
   "cell_type": "code",
   "execution_count": 2,
   "id": "4fdd50b8-5287-4538-8cee-0095dbd25430",
   "metadata": {},
   "outputs": [
    {
     "ename": "NameError",
     "evalue": "name 'data' is not defined",
     "output_type": "error",
     "traceback": [
      "\u001b[0;31m---------------------------------------------------------------------------\u001b[0m",
      "\u001b[0;31mNameError\u001b[0m                                 Traceback (most recent call last)",
      "Cell \u001b[0;32mIn[2], line 2\u001b[0m\n\u001b[1;32m      1\u001b[0m \u001b[38;5;66;03m# Import geodataframe data\u001b[39;00m\n\u001b[0;32m----> 2\u001b[0m nei \u001b[38;5;241m=\u001b[39m gpd\u001b[38;5;241m.\u001b[39mread_file(\u001b[43mdata\u001b[49m\u001b[38;5;241m/\u001b[39m\u001b[38;5;124m'\u001b[39m\u001b[38;5;124mnei.geojson\u001b[39m\u001b[38;5;124m'\u001b[39m)\n\u001b[1;32m      3\u001b[0m sovi \u001b[38;5;241m=\u001b[39m gpd\u001b[38;5;241m.\u001b[39mread_file(data\u001b[38;5;241m/\u001b[39m\u001b[38;5;124m'\u001b[39m\u001b[38;5;124msovi.geojson\u001b[39m\u001b[38;5;124m'\u001b[39m)\n",
      "\u001b[0;31mNameError\u001b[0m: name 'data' is not defined"
     ]
    }
   ],
   "source": [
    "# Import geodataframe data\n",
    "nei = gpd.read_file(data/'nei.geojson')\n",
    "sovi = gpd.read_file(data/'sovi.geojson')"
   ]
  },
  {
   "cell_type": "markdown",
   "id": "7aa3020f-0c0c-4cb6-81b0-2935d3027ea8",
   "metadata": {},
   "source": [
    "#### In order to compare the geodataframes side by side, the two will be merged using a spatial join."
   ]
  },
  {
   "cell_type": "code",
   "execution_count": null,
   "id": "45cd10c9-6f2a-4769-881b-d2202a701bba",
   "metadata": {},
   "outputs": [],
   "source": [
    "sovi_by_nei = sovi.sjoin(nei, how=\"inner\", predicate='intersects')"
   ]
  },
  {
   "cell_type": "markdown",
   "id": "65a1326b-a4c7-4ee0-88cc-9dfcf8b7f4f1",
   "metadata": {},
   "source": [
    "This type of spatial join will include geometries that intersect between boundaries. Therefore a single census tract is allowed to be counted in multiple neighborhood boundaries."
   ]
  },
  {
   "cell_type": "markdown",
   "id": "a89bf95b-ac29-4245-b22c-1d49339e21a1",
   "metadata": {},
   "source": [
    "#### It is good practice to make sure the spatial join was successful."
   ]
  },
  {
   "cell_type": "code",
   "execution_count": null,
   "id": "6612bb25-e12f-465e-acd6-d9c204550061",
   "metadata": {},
   "outputs": [],
   "source": [
    "nei.head(3)"
   ]
  },
  {
   "cell_type": "markdown",
   "id": "8d30e0a6-7e1a-4261-aa74-3fc4f3d1c22e",
   "metadata": {},
   "source": [
    "Neighborhood are informative because the City of LA is huge. Also, identifying locations by neighborhood avoids confusion between the City of LA and cities within the County of LA."
   ]
  },
  {
   "cell_type": "code",
   "execution_count": null,
   "id": "dbd26a92-57c1-4b95-8a90-57837557a873",
   "metadata": {},
   "outputs": [],
   "source": [
    "sovi.head(3)"
   ]
  },
  {
   "cell_type": "markdown",
   "id": "235036b0-2d03-45fd-a5e1-a8bfb6536e0d",
   "metadata": {},
   "source": [
    "The columns inform which indexes are used to calculate the SoVI score."
   ]
  },
  {
   "cell_type": "markdown",
   "id": "14211617-549e-468e-b7ea-dac39f7e5a7c",
   "metadata": {},
   "source": [
    "#### There will be many columns so make sure all of them can be viewed"
   ]
  },
  {
   "cell_type": "code",
   "execution_count": null,
   "id": "e916c3e4-72e9-4986-947a-155f517972d8",
   "metadata": {},
   "outputs": [],
   "source": [
    "# display.max_columns option controls the number of columns to be printed\n",
    "pd.set_option('display.max_columns', None)"
   ]
  },
  {
   "cell_type": "code",
   "execution_count": null,
   "id": "a677b978-707e-4324-8dcc-52369813c547",
   "metadata": {},
   "outputs": [],
   "source": [
    "sovi_by_nei.sample(3)"
   ]
  },
  {
   "cell_type": "markdown",
   "id": "65e35af7-f395-40b1-8346-6e54a37dfbdc",
   "metadata": {},
   "source": [
    "The Census Tracts have been matched to a neighborhood. Now we can proceed."
   ]
  },
  {
   "cell_type": "markdown",
   "id": "a1781392-b296-4450-a386-c3adc4c02847",
   "metadata": {},
   "source": [
    "#### First, let's look at the SoVI score distribution across LA (not by the neighborhood scale)"
   ]
  },
  {
   "cell_type": "code",
   "execution_count": null,
   "id": "0f31ca1e-e57e-4b21-956e-847fbff6b557",
   "metadata": {
    "tags": []
   },
   "outputs": [],
   "source": [
    "# Creation the folium map\n",
    "m = folium.Map(location=[34.2, -118.2], # Center around LA\n",
    "                zoom_start=9,\n",
    "                tiles='https://{s}.basemaps.cartocdn.com/rastertiles/voyager/{z}/{x}/{y}{r}.png', # Add a desired basemap \n",
    "                attr='My Data Attribution')\n",
    "     \n",
    "# Define the map\n",
    "fig = folium.Choropleth(\n",
    "    geo_data=sovi_by_nei, # Specify what geodataframe is being used\n",
    "    name='Social Vulnerability Index',\n",
    "    data=sovi_by_nei,\n",
    "    columns=['name', 'SoVI_Score'], # The SoVI score will be mapped\n",
    "    key_on='feature.properties.name',\n",
    "    fill_color='Purples',\n",
    "    line_weight=0.1,\n",
    "    fill_opacity=0.6,\n",
    "    line_opacity=0.2,\n",
    "    legend_name='Social Vulnerability Index',\n",
    "    bins=9,\n",
    "    reset=True,\n",
    "    # The scale of the legend is bounded by the smalled and largest given SoVI score\n",
    "    colormap=linear.Purples_09.scale(\n",
    "        sovi_by_nei['SoVI_Score'].min(),\n",
    "        sovi_by_nei['SoVI_Score'].max())\n",
    "        )\n",
    "        \n",
    "# Add the choropleth to the folium map\n",
    "fig.add_to(m)\n",
    "\n",
    "# Display map\n",
    "m"
   ]
  },
  {
   "cell_type": "markdown",
   "id": "67ea9e49-6933-4891-bb3b-5e17a65418a2",
   "metadata": {},
   "source": [
    "One can observe that the highest social vulnerability is centered around Downtown LA, Van Nuys, and Antelope Valley."
   ]
  },
  {
   "cell_type": "markdown",
   "id": "614a4da9-f790-41b3-8247-7ff2a8492e0b",
   "metadata": {},
   "source": [
    "## Let's add interactive components to the map"
   ]
  },
  {
   "cell_type": "code",
   "execution_count": null,
   "id": "e3b4be6e-33a9-4440-a862-4cd8aa0a8be9",
   "metadata": {},
   "outputs": [],
   "source": [
    "# The style function will be empty so that it does not compete with the existing color scheme\n",
    "style_function = lambda x: {'fillColor': '#ffffff', \n",
    "                            'color':'#000000', \n",
    "                            'fillOpacity': 0.1, \n",
    "                            'weight': 0.1}\n",
    "\n",
    "# Highlight the census tract when hovered over\n",
    "highlight_function = lambda x: {'fillColor': '#000000', \n",
    "                                'color':'#000000', \n",
    "                                'fillOpacity': 0.50, \n",
    "                                'weight': 0.1}\n",
    "\n",
    "# Informs user when hovering over the map\n",
    "tip = folium.features.GeoJson(\n",
    "    sovi_by_nei,\n",
    "    style_function=style_function, \n",
    "    control=False,\n",
    "    highlight_function=highlight_function, \n",
    "    tooltip=folium.features.GeoJsonTooltip(\n",
    "        fields=['name','SoVI_Score','Census_Tract'],\n",
    "        aliases=['Neighborhood: ','SoVI', 'Census Tract'],\n",
    "        style=(\"background-color: white; color: #333333; font-family: arial; font-size: 12px; padding: 10px;\") \n",
    "    )\n",
    ")\n",
    "m.add_child(tip)\n",
    "# The parameters in tip should always be in front of this layer to allow for interactivity\n",
    "m.keep_in_front(tip)\n",
    "folium.LayerControl().add_to(m)"
   ]
  },
  {
   "cell_type": "markdown",
   "id": "90ded454-4624-4d9d-a406-2a0623caf1c2",
   "metadata": {},
   "source": [
    "Now, the user can easily match the Census Tract with the neighborhood."
   ]
  },
  {
   "cell_type": "markdown",
   "id": "673a4f06-5230-4762-814b-83b3771a2b0f",
   "metadata": {},
   "source": [
    "## However, it is a lot of data looking at the entire LA County. Now a function will be created to observed specific neighborhoods."
   ]
  },
  {
   "cell_type": "code",
   "execution_count": null,
   "id": "045e1f90-fb89-4876-9540-70fdf6ac3e02",
   "metadata": {},
   "outputs": [],
   "source": [
    "def nei_map(name):\n",
    "        # This is the basic creation of a folium map that sets the starting location and zoom level and basemap.\n",
    "    m = folium.Map(location=[34.2, -118.2],\n",
    "                   zoom_start=9,\n",
    "                   tiles='https://{s}.basemaps.cartocdn.com/rastertiles/voyager/{z}/{x}/{y}{r}.png',\n",
    "                   attr='My Data Attribution',\n",
    "                   tooltip='geojson')\n",
    "       \n",
    "    fig = folium.Choropleth(\n",
    "        geo_data=sovi_by_nei[sovi_by_nei['name']==name],\n",
    "        name='Social Vulnerability Index for '+ name,\n",
    "        data=sovi_by_nei[sovi_by_nei['name']==name],\n",
    "        columns=['name', 'SoVI_Score'], # The SoVI score will be mapped\n",
    "        key_on='feature.properties.name',\n",
    "        fill_color='Purples',\n",
    "        line_weight=0.1,\n",
    "        fill_opacity=0.6,\n",
    "        line_opacity=0.2,\n",
    "        legend_name='Social Vulnerability Index',\n",
    "        bins=9,\n",
    "        reset=True,\n",
    "        # The scale of the legend is bounded by the smalled and largest given SoVI score\n",
    "        colormap=linear.Purples_09.scale(\n",
    "            sovi_by_nei['SoVI_Score'].min(),\n",
    "            sovi_by_nei['SoVI_Score'].max())\n",
    "            )\n",
    "    \n",
    "    # The style function will be empty so that it does not compete with the existing color scheme\n",
    "    style_function = lambda x: {'fillColor': '#ffffff', \n",
    "                                'color':'#000000', \n",
    "                                'fillOpacity': 0.1, \n",
    "                                'weight': 0.1}\n",
    "\n",
    "    # Highlight the census tract when hovered over\n",
    "    highlight_function = lambda x: {'fillColor': '#000000', \n",
    "                                    'color':'#000000', \n",
    "                                    'fillOpacity': 0.50, \n",
    "                                    'weight': 0.1}\n",
    "\n",
    "    # Informs user when hovering over the map\n",
    "    tip = folium.features.GeoJson(\n",
    "        sovi_by_nei,\n",
    "        style_function=style_function, \n",
    "        control=False,\n",
    "        highlight_function=highlight_function, \n",
    "        tooltip=folium.features.GeoJsonTooltip(\n",
    "            fields=['name','SoVI_Score','Census_Tract'],\n",
    "            aliases=['Neighborhood: ','SoVI', 'Census Tract'],\n",
    "            style=(\"background-color: white; color: #333333; font-family: arial; font-size: 12px; padding: 10px;\") \n",
    "        )\n",
    "    )\n",
    "    # Add first layer\n",
    "    fig.add_to(m) \n",
    "    \n",
    "    # Add interactive components\n",
    "    m.add_child(tip)\n",
    "    # The parameters in tip should always be in front of this layer to allow for interactivity\n",
    "    m.keep_in_front(tip)\n",
    "    folium.LayerControl().add_to(m)\n",
    "\n",
    "    # return the map at the end of the function to actually execute the code.\n",
    "    return m\n",
    "    "
   ]
  },
  {
   "cell_type": "markdown",
   "id": "1d9f1377-1afd-4f5c-b7bd-bc25568b6f96",
   "metadata": {},
   "source": [
    "## Now, we can look at specific neighborhoods"
   ]
  },
  {
   "cell_type": "markdown",
   "id": "3467d09e-bad7-40d5-aff6-582b2d6308bb",
   "metadata": {},
   "source": [
    "The following list is a list of all neighborhoods. Caution: the user must input the neighborhood name in the same manner as is presented in the list."
   ]
  },
  {
   "cell_type": "code",
   "execution_count": null,
   "id": "7f681154-d110-47bc-b886-03fd8ba5f185",
   "metadata": {
    "tags": []
   },
   "outputs": [],
   "source": [
    "# Get a list of all the neighborhoods\n",
    "nei_list = sovi_by_nei.name.unique().tolist()\n",
    "nei_list"
   ]
  },
  {
   "cell_type": "markdown",
   "id": "bb70faaa-4734-4bcd-a77a-a82ba5148ea3",
   "metadata": {},
   "source": [
    "Now, we can see which Census Tracts make up the neighborhood of Westwood. In Westwood, SoVI ranges from -6.8 to -5.8. This means that they are not a socially vulnerable population. "
   ]
  },
  {
   "cell_type": "code",
   "execution_count": null,
   "id": "fff9132c-24ec-46e3-bace-2fe4a4a26c80",
   "metadata": {},
   "outputs": [],
   "source": [
    "nei_map('Van Nuys')"
   ]
  },
  {
   "cell_type": "markdown",
   "id": "5989986c-039a-4af6-92b5-dfda520555b9",
   "metadata": {},
   "source": [
    "As previously noticed, Van Nuys has a high range of SoVI (6.0 to 7.0)."
   ]
  }
 ],
 "metadata": {
  "kernelspec": {
   "display_name": "Python 3 (ipykernel)",
   "language": "python",
   "name": "python3"
  },
  "language_info": {
   "codemirror_mode": {
    "name": "ipython",
    "version": 3
   },
   "file_extension": ".py",
   "mimetype": "text/x-python",
   "name": "python",
   "nbconvert_exporter": "python",
   "pygments_lexer": "ipython3",
   "version": "3.10.8"
  }
 },
 "nbformat": 4,
 "nbformat_minor": 5
}
