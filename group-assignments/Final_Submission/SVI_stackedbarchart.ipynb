{
 "cells": [
  {
   "cell_type": "markdown",
   "id": "da410c99-9e40-40ef-ba31-06de7f30ab26",
   "metadata": {},
   "source": [
    "### Notebook: Stacked bar chart that breaks down SVI indicators in 4 High Vulnerability (HH) census tracts (by neighborhood) ### \n",
    "\n",
    "After identifying spatially significant clusters of high vulnerability census tracts (HH) and overlaying these clusters with neighborhood boundaries, we were able to determine which neighborhoods have the higest vulnerability. We selected 4 high priority neighborhoods based on % area overlap with high vulnerability census tract clusters and population size. These neighborhoods also happened to be geographically distinct and spread out over LA County. \n",
    "\n",
    "Based on our existing knowledge of LA County, and how different geographic areas can vary significantly from each other, we felt that these priority neighborhoods merited further analysis at the census tract level\n",
    "\n",
    "In this notebook I have created a stacked bar chart that shows individual SVI indicators for the highest SVI census tract in each of the 4 priority neighborhoods (Long Beach, Montebello, Koreatown, Lake Los Angeles). These indicators were identified as part of the 2021 LA County Climate Vulnerability Assessment and together, they determine overall SVI score. By looking at individual indicators, we can better understand how vulnerability profiles differ between neighborhoods (Long Beach, Montebello, Koreatown, Lake Los Angeles) and community types (coastal, suburban, urban, rural)."
   ]
  },
  {
   "cell_type": "code",
   "execution_count": 1,
   "id": "9666262c-39f7-494b-af3a-70e1045ce408",
   "metadata": {},
   "outputs": [
    {
     "name": "stderr",
     "output_type": "stream",
     "text": [
      "ERROR 1: PROJ: proj_create_from_database: Open of /opt/conda/share/proj failed\n"
     ]
    }
   ],
   "source": [
    "#import libraries\n",
    "import pandas as pd\n",
    "import geopandas as gpd\n",
    "import fiona\n",
    "import geopandas.geoseries  \n",
    "import folium\n",
    "import plotly.express as px\n",
    "import numpy as np\n",
    "import seaborn as sns\n",
    "import matplotlib.pyplot as plt\n",
    "import contextily as ctx"
   ]
  },
  {
   "cell_type": "code",
   "execution_count": 2,
   "id": "ebafb63f-d816-4ef4-95ff-94f0aaf290e9",
   "metadata": {},
   "outputs": [
    {
     "name": "stdout",
     "output_type": "stream",
     "text": [
      "<class 'geopandas.geodataframe.GeoDataFrame'>\n",
      "RangeIndex: 2327 entries, 0 to 2326\n",
      "Data columns (total 47 columns):\n",
      " #   Column                           Non-Null Count  Dtype   \n",
      "---  ------                           --------------  -----   \n",
      " 0   Census_Tract                     2327 non-null   object  \n",
      " 1   County                           2327 non-null   object  \n",
      " 2   CSA_Type                         2327 non-null   object  \n",
      " 3   CSA_Label                        2327 non-null   object  \n",
      " 4   DRP_Planning_Area                2327 non-null   object  \n",
      " 5   DPH_Service_Planning_Area        2327 non-null   object  \n",
      " 6   City_of_Los_Angeles_CPA          994 non-null    object  \n",
      " 7   Population                       2327 non-null   int64   \n",
      " 8   Children                         2327 non-null   float64 \n",
      " 9   Older_Adults                     2327 non-null   float64 \n",
      " 10  Older_Adults_Living_Alone        2327 non-null   float64 \n",
      " 11  Limited_English                  2327 non-null   float64 \n",
      " 12  No_High_School_Diploma           2327 non-null   float64 \n",
      " 13  Female                           2327 non-null   float64 \n",
      " 14  Female_Householder               2327 non-null   float64 \n",
      " 15  Asthma                           2327 non-null   float64 \n",
      " 16  Cardiovascular_Disease           2327 non-null   float64 \n",
      " 17  Disability                       2327 non-null   float64 \n",
      " 18  No_Health_Insurance              2327 non-null   float64 \n",
      " 19  Living_in_Group_Quarters         2327 non-null   float64 \n",
      " 20  Mobile_Homes                     2327 non-null   float64 \n",
      " 21  Rent_Burden                      2327 non-null   float64 \n",
      " 22  Renters                          2327 non-null   float64 \n",
      " 23  Median_Income                    2327 non-null   int64   \n",
      " 24  Poverty                          2327 non-null   float64 \n",
      " 25  Households_Without_Vehicle_Acce  2327 non-null   float64 \n",
      " 26  Transit_Access                   2327 non-null   float64 \n",
      " 27  Outdoor_Workers                  2327 non-null   float64 \n",
      " 28  Unemployed                       2327 non-null   float64 \n",
      " 29  Foreign_Born                     2327 non-null   float64 \n",
      " 30  Library_Access                   2327 non-null   float64 \n",
      " 31  No_Internet_Subscription         2327 non-null   float64 \n",
      " 32  Voter_Turnout_Rate               2327 non-null   float64 \n",
      " 33  Hispanic_Latinx                  2327 non-null   float64 \n",
      " 34  White                            2327 non-null   float64 \n",
      " 35  Black                            2327 non-null   float64 \n",
      " 36  Native_Tribal                    2327 non-null   float64 \n",
      " 37  Asian                            2327 non-null   float64 \n",
      " 38  NHOPI                            2327 non-null   float64 \n",
      " 39  Other_Race                       2327 non-null   float64 \n",
      " 40  Two_or_More_Races                2327 non-null   float64 \n",
      " 41  SoVI_Score                       2327 non-null   float64 \n",
      " 42  SoVI_Thirds                      2327 non-null   int64   \n",
      " 43  ObjectId                         2327 non-null   int64   \n",
      " 44  Shape__Area                      2327 non-null   float64 \n",
      " 45  Shape__Length                    2327 non-null   float64 \n",
      " 46  geometry                         2327 non-null   geometry\n",
      "dtypes: float64(35), geometry(1), int64(4), object(7)\n",
      "memory usage: 854.6+ KB\n"
     ]
    }
   ],
   "source": [
    "#import SVI data\n",
    "svi = gpd.read_file('data/Los_Angeles_County_CVA_Social_Vulnerability_Index.geojson')\n",
    "svi.info()"
   ]
  },
  {
   "cell_type": "markdown",
   "id": "00f77d9a-2acc-4ee9-8d96-9ffd76bb383d",
   "metadata": {},
   "source": [
    "Currently, SVI data is displayed at the census tract level and has no neighborhood data. I will need to import a file with neighborhood geographies to know which neighborhoods each census tract belongs to. "
   ]
  },
  {
   "cell_type": "code",
   "execution_count": 3,
   "id": "2488cb18-8cb0-4c32-b741-297a57a9b399",
   "metadata": {},
   "outputs": [
    {
     "data": {
      "text/plain": [
       "<Geographic 2D CRS: EPSG:4326>\n",
       "Name: WGS 84\n",
       "Axis Info [ellipsoidal]:\n",
       "- Lat[north]: Geodetic latitude (degree)\n",
       "- Lon[east]: Geodetic longitude (degree)\n",
       "Area of Use:\n",
       "- name: World.\n",
       "- bounds: (-180.0, -90.0, 180.0, 90.0)\n",
       "Datum: World Geodetic System 1984 ensemble\n",
       "- Ellipsoid: WGS 84\n",
       "- Prime Meridian: Greenwich"
      ]
     },
     "execution_count": 3,
     "metadata": {},
     "output_type": "execute_result"
    }
   ],
   "source": [
    "#Import neighborhood shapes\n",
    "nei = gpd.read_file('data/Los Angeles Neighborhood Map.geojson')\n",
    "nei.head()\n",
    "nei.crs"
   ]
  },
  {
   "cell_type": "markdown",
   "id": "8cf10fd1-dc3c-4d9c-a2f8-d7506bbc260c",
   "metadata": {},
   "source": [
    "Conducting spatial join between SVI data at census tract level and neighborhood shapes to see which census tracts are included in neighborhood boundaries"
   ]
  },
  {
   "cell_type": "code",
   "execution_count": 4,
   "id": "7fbd0cc3-6bea-4ece-ad67-b27014b58d8c",
   "metadata": {},
   "outputs": [],
   "source": [
    "#spatial join btw SVI and neighborhood data\n",
    "svi_by_nei = svi.sjoin(nei, how=\"inner\", predicate='intersects')"
   ]
  },
  {
   "cell_type": "code",
   "execution_count": 5,
   "id": "f1c1e47b-1d92-4b19-9ae0-b86b61ddf758",
   "metadata": {},
   "outputs": [
    {
     "data": {
      "text/html": [
       "<div>\n",
       "<style scoped>\n",
       "    .dataframe tbody tr th:only-of-type {\n",
       "        vertical-align: middle;\n",
       "    }\n",
       "\n",
       "    .dataframe tbody tr th {\n",
       "        vertical-align: top;\n",
       "    }\n",
       "\n",
       "    .dataframe thead th {\n",
       "        text-align: right;\n",
       "    }\n",
       "</style>\n",
       "<table border=\"1\" class=\"dataframe\">\n",
       "  <thead>\n",
       "    <tr style=\"text-align: right;\">\n",
       "      <th></th>\n",
       "      <th>external_i</th>\n",
       "      <th>name</th>\n",
       "      <th>location</th>\n",
       "      <th>latitude</th>\n",
       "      <th>slug_1</th>\n",
       "      <th>sqmi</th>\n",
       "      <th>display_na</th>\n",
       "      <th>set</th>\n",
       "      <th>slug</th>\n",
       "      <th>longitude</th>\n",
       "      <th>name_1</th>\n",
       "      <th>kind</th>\n",
       "      <th>type</th>\n",
       "      <th>geometry</th>\n",
       "    </tr>\n",
       "  </thead>\n",
       "  <tbody>\n",
       "    <tr>\n",
       "      <th>0</th>\n",
       "      <td>acton</td>\n",
       "      <td>Acton</td>\n",
       "      <td>POINT(34.497355239240846 -118.16981019229348)</td>\n",
       "      <td>-118.16981019229348</td>\n",
       "      <td>None</td>\n",
       "      <td>39.3391089485</td>\n",
       "      <td>Acton L.A. County Neighborhood (Current)</td>\n",
       "      <td>L.A. County Neighborhoods (Current)</td>\n",
       "      <td>acton</td>\n",
       "      <td>34.497355239240846</td>\n",
       "      <td>None</td>\n",
       "      <td>L.A. County Neighborhood (Current)</td>\n",
       "      <td>unincorporated-area</td>\n",
       "      <td>MULTIPOLYGON (((-118.20262 34.53899, -118.1894...</td>\n",
       "    </tr>\n",
       "    <tr>\n",
       "      <th>1</th>\n",
       "      <td>adams-normandie</td>\n",
       "      <td>Adams-Normandie</td>\n",
       "      <td>POINT(34.031461499124156 -118.30020800000011)</td>\n",
       "      <td>-118.30020800000011</td>\n",
       "      <td>None</td>\n",
       "      <td>0.805350187789</td>\n",
       "      <td>Adams-Normandie L.A. County Neighborhood (Curr...</td>\n",
       "      <td>L.A. County Neighborhoods (Current)</td>\n",
       "      <td>adams-normandie</td>\n",
       "      <td>34.031461499124156</td>\n",
       "      <td>None</td>\n",
       "      <td>L.A. County Neighborhood (Current)</td>\n",
       "      <td>segment-of-a-city</td>\n",
       "      <td>MULTIPOLYGON (((-118.30901 34.03741, -118.3004...</td>\n",
       "    </tr>\n",
       "    <tr>\n",
       "      <th>2</th>\n",
       "      <td>agoura-hills</td>\n",
       "      <td>Agoura Hills</td>\n",
       "      <td>POINT(34.146736499122795 -118.75988450000015)</td>\n",
       "      <td>-118.75988450000015</td>\n",
       "      <td>None</td>\n",
       "      <td>8.14676029818</td>\n",
       "      <td>Agoura Hills L.A. County Neighborhood (Current)</td>\n",
       "      <td>L.A. County Neighborhoods (Current)</td>\n",
       "      <td>agoura-hills</td>\n",
       "      <td>34.146736499122795</td>\n",
       "      <td>None</td>\n",
       "      <td>L.A. County Neighborhood (Current)</td>\n",
       "      <td>standalone-city</td>\n",
       "      <td>MULTIPOLYGON (((-118.76193 34.16820, -118.7263...</td>\n",
       "    </tr>\n",
       "  </tbody>\n",
       "</table>\n",
       "</div>"
      ],
      "text/plain": [
       "        external_i             name  \\\n",
       "0            acton            Acton   \n",
       "1  adams-normandie  Adams-Normandie   \n",
       "2     agoura-hills     Agoura Hills   \n",
       "\n",
       "                                        location             latitude slug_1  \\\n",
       "0  POINT(34.497355239240846 -118.16981019229348)  -118.16981019229348   None   \n",
       "1  POINT(34.031461499124156 -118.30020800000011)  -118.30020800000011   None   \n",
       "2  POINT(34.146736499122795 -118.75988450000015)  -118.75988450000015   None   \n",
       "\n",
       "             sqmi                                         display_na  \\\n",
       "0   39.3391089485           Acton L.A. County Neighborhood (Current)   \n",
       "1  0.805350187789  Adams-Normandie L.A. County Neighborhood (Curr...   \n",
       "2   8.14676029818    Agoura Hills L.A. County Neighborhood (Current)   \n",
       "\n",
       "                                   set             slug           longitude  \\\n",
       "0  L.A. County Neighborhoods (Current)            acton  34.497355239240846   \n",
       "1  L.A. County Neighborhoods (Current)  adams-normandie  34.031461499124156   \n",
       "2  L.A. County Neighborhoods (Current)     agoura-hills  34.146736499122795   \n",
       "\n",
       "  name_1                                kind                 type  \\\n",
       "0   None  L.A. County Neighborhood (Current)  unincorporated-area   \n",
       "1   None  L.A. County Neighborhood (Current)    segment-of-a-city   \n",
       "2   None  L.A. County Neighborhood (Current)      standalone-city   \n",
       "\n",
       "                                            geometry  \n",
       "0  MULTIPOLYGON (((-118.20262 34.53899, -118.1894...  \n",
       "1  MULTIPOLYGON (((-118.30901 34.03741, -118.3004...  \n",
       "2  MULTIPOLYGON (((-118.76193 34.16820, -118.7263...  "
      ]
     },
     "execution_count": 5,
     "metadata": {},
     "output_type": "execute_result"
    }
   ],
   "source": [
    "nei.head(3)"
   ]
  },
  {
   "cell_type": "code",
   "execution_count": 6,
   "id": "3f61fb06-d3a3-48b7-9d61-77621d1b9623",
   "metadata": {},
   "outputs": [
    {
     "data": {
      "text/html": [
       "<div>\n",
       "<style scoped>\n",
       "    .dataframe tbody tr th:only-of-type {\n",
       "        vertical-align: middle;\n",
       "    }\n",
       "\n",
       "    .dataframe tbody tr th {\n",
       "        vertical-align: top;\n",
       "    }\n",
       "\n",
       "    .dataframe thead th {\n",
       "        text-align: right;\n",
       "    }\n",
       "</style>\n",
       "<table border=\"1\" class=\"dataframe\">\n",
       "  <thead>\n",
       "    <tr style=\"text-align: right;\">\n",
       "      <th></th>\n",
       "      <th>Census_Tract</th>\n",
       "      <th>County</th>\n",
       "      <th>CSA_Type</th>\n",
       "      <th>CSA_Label</th>\n",
       "      <th>DRP_Planning_Area</th>\n",
       "      <th>DPH_Service_Planning_Area</th>\n",
       "      <th>City_of_Los_Angeles_CPA</th>\n",
       "      <th>Population</th>\n",
       "      <th>Children</th>\n",
       "      <th>Older_Adults</th>\n",
       "      <th>...</th>\n",
       "      <th>Asian</th>\n",
       "      <th>NHOPI</th>\n",
       "      <th>Other_Race</th>\n",
       "      <th>Two_or_More_Races</th>\n",
       "      <th>SoVI_Score</th>\n",
       "      <th>SoVI_Thirds</th>\n",
       "      <th>ObjectId</th>\n",
       "      <th>Shape__Area</th>\n",
       "      <th>Shape__Length</th>\n",
       "      <th>geometry</th>\n",
       "    </tr>\n",
       "  </thead>\n",
       "  <tbody>\n",
       "    <tr>\n",
       "      <th>0</th>\n",
       "      <td>Census Tract 5709.02</td>\n",
       "      <td>Los Angeles County</td>\n",
       "      <td>City</td>\n",
       "      <td>City of Lakewood</td>\n",
       "      <td>Gateway Planning Area</td>\n",
       "      <td>East</td>\n",
       "      <td>None</td>\n",
       "      <td>3765</td>\n",
       "      <td>27.8</td>\n",
       "      <td>14.0</td>\n",
       "      <td>...</td>\n",
       "      <td>10.9</td>\n",
       "      <td>0.0</td>\n",
       "      <td>0.4</td>\n",
       "      <td>8.0</td>\n",
       "      <td>2.25</td>\n",
       "      <td>3</td>\n",
       "      <td>1</td>\n",
       "      <td>1.536760e+06</td>\n",
       "      <td>5208.283880</td>\n",
       "      <td>POLYGON ((-118.12509 33.86032, -118.12287 33.8...</td>\n",
       "    </tr>\n",
       "    <tr>\n",
       "      <th>1</th>\n",
       "      <td>Census Tract 5715.02</td>\n",
       "      <td>Los Angeles County</td>\n",
       "      <td>City</td>\n",
       "      <td>City of Long Beach</td>\n",
       "      <td>Gateway Planning Area</td>\n",
       "      <td>South Bay</td>\n",
       "      <td>None</td>\n",
       "      <td>4700</td>\n",
       "      <td>24.6</td>\n",
       "      <td>14.0</td>\n",
       "      <td>...</td>\n",
       "      <td>21.7</td>\n",
       "      <td>0.1</td>\n",
       "      <td>0.6</td>\n",
       "      <td>1.3</td>\n",
       "      <td>-1.77</td>\n",
       "      <td>1</td>\n",
       "      <td>2</td>\n",
       "      <td>2.001416e+06</td>\n",
       "      <td>5938.830961</td>\n",
       "      <td>POLYGON ((-118.19274 33.84376, -118.18975 33.8...</td>\n",
       "    </tr>\n",
       "    <tr>\n",
       "      <th>2</th>\n",
       "      <td>Census Tract 9106.05</td>\n",
       "      <td>Los Angeles County</td>\n",
       "      <td>City</td>\n",
       "      <td>City of Palmdale</td>\n",
       "      <td>Antelope Valley Planning Area</td>\n",
       "      <td>Antelope Valley</td>\n",
       "      <td>None</td>\n",
       "      <td>4710</td>\n",
       "      <td>38.4</td>\n",
       "      <td>7.0</td>\n",
       "      <td>...</td>\n",
       "      <td>5.3</td>\n",
       "      <td>0.0</td>\n",
       "      <td>0.2</td>\n",
       "      <td>2.5</td>\n",
       "      <td>2.39</td>\n",
       "      <td>3</td>\n",
       "      <td>3</td>\n",
       "      <td>1.996430e+06</td>\n",
       "      <td>5983.046762</td>\n",
       "      <td>POLYGON ((-118.07616 34.57281, -118.06728 34.5...</td>\n",
       "    </tr>\n",
       "  </tbody>\n",
       "</table>\n",
       "<p>3 rows × 47 columns</p>\n",
       "</div>"
      ],
      "text/plain": [
       "           Census_Tract              County CSA_Type           CSA_Label  \\\n",
       "0  Census Tract 5709.02  Los Angeles County     City    City of Lakewood   \n",
       "1  Census Tract 5715.02  Los Angeles County     City  City of Long Beach   \n",
       "2  Census Tract 9106.05  Los Angeles County     City    City of Palmdale   \n",
       "\n",
       "               DRP_Planning_Area DPH_Service_Planning_Area  \\\n",
       "0          Gateway Planning Area                      East   \n",
       "1          Gateway Planning Area                 South Bay   \n",
       "2  Antelope Valley Planning Area           Antelope Valley   \n",
       "\n",
       "  City_of_Los_Angeles_CPA  Population  Children  Older_Adults  ...  Asian  \\\n",
       "0                    None        3765      27.8          14.0  ...   10.9   \n",
       "1                    None        4700      24.6          14.0  ...   21.7   \n",
       "2                    None        4710      38.4           7.0  ...    5.3   \n",
       "\n",
       "   NHOPI  Other_Race  Two_or_More_Races  SoVI_Score  SoVI_Thirds  ObjectId  \\\n",
       "0    0.0         0.4                8.0        2.25            3         1   \n",
       "1    0.1         0.6                1.3       -1.77            1         2   \n",
       "2    0.0         0.2                2.5        2.39            3         3   \n",
       "\n",
       "    Shape__Area  Shape__Length  \\\n",
       "0  1.536760e+06    5208.283880   \n",
       "1  2.001416e+06    5938.830961   \n",
       "2  1.996430e+06    5983.046762   \n",
       "\n",
       "                                            geometry  \n",
       "0  POLYGON ((-118.12509 33.86032, -118.12287 33.8...  \n",
       "1  POLYGON ((-118.19274 33.84376, -118.18975 33.8...  \n",
       "2  POLYGON ((-118.07616 34.57281, -118.06728 34.5...  \n",
       "\n",
       "[3 rows x 47 columns]"
      ]
     },
     "execution_count": 6,
     "metadata": {},
     "output_type": "execute_result"
    }
   ],
   "source": [
    "svi.head(3)"
   ]
  },
  {
   "cell_type": "code",
   "execution_count": 7,
   "id": "5fd7c2aa-e532-4d6c-b8aa-63fead8d5759",
   "metadata": {},
   "outputs": [],
   "source": [
    "# display.max_columns option controls the number of columns to be printed\n",
    "pd.set_option('display.max_columns', None)"
   ]
  },
  {
   "cell_type": "code",
   "execution_count": 8,
   "id": "019f2c5c-c34e-436f-ae21-a6509b77dcf7",
   "metadata": {},
   "outputs": [
    {
     "name": "stdout",
     "output_type": "stream",
     "text": [
      "<class 'geopandas.geodataframe.GeoDataFrame'>\n",
      "Int64Index: 4916 entries, 0 to 2270\n",
      "Data columns (total 61 columns):\n",
      " #   Column                           Non-Null Count  Dtype   \n",
      "---  ------                           --------------  -----   \n",
      " 0   Census_Tract                     4916 non-null   object  \n",
      " 1   County                           4916 non-null   object  \n",
      " 2   CSA_Type                         4916 non-null   object  \n",
      " 3   CSA_Label                        4916 non-null   object  \n",
      " 4   DRP_Planning_Area                4916 non-null   object  \n",
      " 5   DPH_Service_Planning_Area        4916 non-null   object  \n",
      " 6   City_of_Los_Angeles_CPA          2026 non-null   object  \n",
      " 7   Population                       4916 non-null   int64   \n",
      " 8   Children                         4916 non-null   float64 \n",
      " 9   Older_Adults                     4916 non-null   float64 \n",
      " 10  Older_Adults_Living_Alone        4916 non-null   float64 \n",
      " 11  Limited_English                  4916 non-null   float64 \n",
      " 12  No_High_School_Diploma           4916 non-null   float64 \n",
      " 13  Female                           4916 non-null   float64 \n",
      " 14  Female_Householder               4916 non-null   float64 \n",
      " 15  Asthma                           4916 non-null   float64 \n",
      " 16  Cardiovascular_Disease           4916 non-null   float64 \n",
      " 17  Disability                       4916 non-null   float64 \n",
      " 18  No_Health_Insurance              4916 non-null   float64 \n",
      " 19  Living_in_Group_Quarters         4916 non-null   float64 \n",
      " 20  Mobile_Homes                     4916 non-null   float64 \n",
      " 21  Rent_Burden                      4916 non-null   float64 \n",
      " 22  Renters                          4916 non-null   float64 \n",
      " 23  Median_Income                    4916 non-null   int64   \n",
      " 24  Poverty                          4916 non-null   float64 \n",
      " 25  Households_Without_Vehicle_Acce  4916 non-null   float64 \n",
      " 26  Transit_Access                   4916 non-null   float64 \n",
      " 27  Outdoor_Workers                  4916 non-null   float64 \n",
      " 28  Unemployed                       4916 non-null   float64 \n",
      " 29  Foreign_Born                     4916 non-null   float64 \n",
      " 30  Library_Access                   4916 non-null   float64 \n",
      " 31  No_Internet_Subscription         4916 non-null   float64 \n",
      " 32  Voter_Turnout_Rate               4916 non-null   float64 \n",
      " 33  Hispanic_Latinx                  4916 non-null   float64 \n",
      " 34  White                            4916 non-null   float64 \n",
      " 35  Black                            4916 non-null   float64 \n",
      " 36  Native_Tribal                    4916 non-null   float64 \n",
      " 37  Asian                            4916 non-null   float64 \n",
      " 38  NHOPI                            4916 non-null   float64 \n",
      " 39  Other_Race                       4916 non-null   float64 \n",
      " 40  Two_or_More_Races                4916 non-null   float64 \n",
      " 41  SoVI_Score                       4916 non-null   float64 \n",
      " 42  SoVI_Thirds                      4916 non-null   int64   \n",
      " 43  ObjectId                         4916 non-null   int64   \n",
      " 44  Shape__Area                      4916 non-null   float64 \n",
      " 45  Shape__Length                    4916 non-null   float64 \n",
      " 46  geometry                         4916 non-null   geometry\n",
      " 47  index_right                      4916 non-null   int64   \n",
      " 48  external_i                       4916 non-null   object  \n",
      " 49  name                             4916 non-null   object  \n",
      " 50  location                         4916 non-null   object  \n",
      " 51  latitude                         4916 non-null   object  \n",
      " 52  slug_1                           0 non-null      object  \n",
      " 53  sqmi                             4916 non-null   object  \n",
      " 54  display_na                       4916 non-null   object  \n",
      " 55  set                              4916 non-null   object  \n",
      " 56  slug                             4916 non-null   object  \n",
      " 57  longitude                        4916 non-null   object  \n",
      " 58  name_1                           0 non-null      object  \n",
      " 59  kind                             4916 non-null   object  \n",
      " 60  type                             4916 non-null   object  \n",
      "dtypes: float64(35), geometry(1), int64(5), object(20)\n",
      "memory usage: 2.3+ MB\n"
     ]
    }
   ],
   "source": [
    "#checking if join was successful\n",
    "svi_by_nei.info()"
   ]
  },
  {
   "cell_type": "markdown",
   "id": "4ad484b7-d488-4d24-83a5-9e6ea65a9974",
   "metadata": {},
   "source": [
    "Now to clean up the data to get it ready to display in bar chart"
   ]
  },
  {
   "cell_type": "code",
   "execution_count": 9,
   "id": "2473c213-bd67-4f8b-b381-86f820359e1a",
   "metadata": {},
   "outputs": [
    {
     "data": {
      "text/plain": [
       "['Census_Tract',\n",
       " 'County',\n",
       " 'CSA_Type',\n",
       " 'CSA_Label',\n",
       " 'DRP_Planning_Area',\n",
       " 'DPH_Service_Planning_Area',\n",
       " 'City_of_Los_Angeles_CPA',\n",
       " 'Population',\n",
       " 'Children',\n",
       " 'Older_Adults',\n",
       " 'Older_Adults_Living_Alone',\n",
       " 'Limited_English',\n",
       " 'No_High_School_Diploma',\n",
       " 'Female',\n",
       " 'Female_Householder',\n",
       " 'Asthma',\n",
       " 'Cardiovascular_Disease',\n",
       " 'Disability',\n",
       " 'No_Health_Insurance',\n",
       " 'Living_in_Group_Quarters',\n",
       " 'Mobile_Homes',\n",
       " 'Rent_Burden',\n",
       " 'Renters',\n",
       " 'Median_Income',\n",
       " 'Poverty',\n",
       " 'Households_Without_Vehicle_Acce',\n",
       " 'Transit_Access',\n",
       " 'Outdoor_Workers',\n",
       " 'Unemployed',\n",
       " 'Foreign_Born',\n",
       " 'Library_Access',\n",
       " 'No_Internet_Subscription',\n",
       " 'Voter_Turnout_Rate',\n",
       " 'Hispanic_Latinx',\n",
       " 'White',\n",
       " 'Black',\n",
       " 'Native_Tribal',\n",
       " 'Asian',\n",
       " 'NHOPI',\n",
       " 'Other_Race',\n",
       " 'Two_or_More_Races',\n",
       " 'SoVI_Score',\n",
       " 'SoVI_Thirds',\n",
       " 'ObjectId',\n",
       " 'Shape__Area',\n",
       " 'Shape__Length',\n",
       " 'geometry',\n",
       " 'index_right',\n",
       " 'external_i',\n",
       " 'name',\n",
       " 'location',\n",
       " 'latitude',\n",
       " 'slug_1',\n",
       " 'sqmi',\n",
       " 'display_na',\n",
       " 'set',\n",
       " 'slug',\n",
       " 'longitude',\n",
       " 'name_1',\n",
       " 'kind',\n",
       " 'type']"
      ]
     },
     "execution_count": 9,
     "metadata": {},
     "output_type": "execute_result"
    }
   ],
   "source": [
    "#list of existing columns\n",
    "svi_by_nei.columns.to_list()"
   ]
  },
  {
   "cell_type": "code",
   "execution_count": 10,
   "id": "fcb8bcd1-8929-4e8b-a4e2-ed4336dca855",
   "metadata": {},
   "outputs": [
    {
     "name": "stdout",
     "output_type": "stream",
     "text": [
      "<class 'geopandas.geodataframe.GeoDataFrame'>\n",
      "Int64Index: 4916 entries, 0 to 2270\n",
      "Data columns (total 35 columns):\n",
      " #   Column                           Non-Null Count  Dtype   \n",
      "---  ------                           --------------  -----   \n",
      " 0   Census_Tract                     4916 non-null   object  \n",
      " 1   Population                       4916 non-null   int64   \n",
      " 2   Children                         4916 non-null   float64 \n",
      " 3   Older_Adults_Living_Alone        4916 non-null   float64 \n",
      " 4   Limited_English                  4916 non-null   float64 \n",
      " 5   No_High_School_Diploma           4916 non-null   float64 \n",
      " 6   Female_Householder               4916 non-null   float64 \n",
      " 7   Asthma                           4916 non-null   float64 \n",
      " 8   Cardiovascular_Disease           4916 non-null   float64 \n",
      " 9   Disability                       4916 non-null   float64 \n",
      " 10  No_Health_Insurance              4916 non-null   float64 \n",
      " 11  Living_in_Group_Quarters         4916 non-null   float64 \n",
      " 12  Mobile_Homes                     4916 non-null   float64 \n",
      " 13  Rent_Burden                      4916 non-null   float64 \n",
      " 14  Renters                          4916 non-null   float64 \n",
      " 15  Poverty                          4916 non-null   float64 \n",
      " 16  Households_Without_Vehicle_Acce  4916 non-null   float64 \n",
      " 17  Transit_Access                   4916 non-null   float64 \n",
      " 18  Outdoor_Workers                  4916 non-null   float64 \n",
      " 19  Unemployed                       4916 non-null   float64 \n",
      " 20  Foreign_Born                     4916 non-null   float64 \n",
      " 21  Library_Access                   4916 non-null   float64 \n",
      " 22  No_Internet_Subscription         4916 non-null   float64 \n",
      " 23  Hispanic_Latinx                  4916 non-null   float64 \n",
      " 24  White                            4916 non-null   float64 \n",
      " 25  Black                            4916 non-null   float64 \n",
      " 26  Native_Tribal                    4916 non-null   float64 \n",
      " 27  Asian                            4916 non-null   float64 \n",
      " 28  NHOPI                            4916 non-null   float64 \n",
      " 29  Other_Race                       4916 non-null   float64 \n",
      " 30  SoVI_Score                       4916 non-null   float64 \n",
      " 31  geometry                         4916 non-null   geometry\n",
      " 32  name                             4916 non-null   object  \n",
      " 33  location                         4916 non-null   object  \n",
      " 34  type                             4916 non-null   object  \n",
      "dtypes: float64(29), geometry(1), int64(1), object(4)\n",
      "memory usage: 1.4+ MB\n"
     ]
    }
   ],
   "source": [
    "#list of columns to keep\n",
    "columns_to_keep = ['Census_Tract',\n",
    " 'Population',\n",
    " 'Children',\n",
    " 'Older_Adults_Living_Alone',\n",
    " 'Limited_English',\n",
    " 'No_High_School_Diploma',\n",
    " 'Female_Householder',\n",
    " 'Asthma',\n",
    " 'Cardiovascular_Disease',\n",
    " 'Disability',\n",
    " 'No_Health_Insurance',\n",
    " 'Living_in_Group_Quarters',\n",
    " 'Mobile_Homes',\n",
    " 'Rent_Burden',\n",
    " 'Renters',\n",
    " 'Poverty',\n",
    " 'Households_Without_Vehicle_Acce',\n",
    " 'Transit_Access',\n",
    " 'Outdoor_Workers',\n",
    " 'Unemployed',\n",
    " 'Foreign_Born',\n",
    " 'Library_Access',\n",
    " 'No_Internet_Subscription',\n",
    " 'Hispanic_Latinx',\n",
    " 'White',\n",
    " 'Black',\n",
    " 'Native_Tribal',\n",
    " 'Asian',\n",
    " 'NHOPI',\n",
    " 'Other_Race',\n",
    " 'SoVI_Score',\n",
    " 'geometry',\n",
    " 'name',\n",
    " 'location',\n",
    " 'type']\n",
    "\n",
    "# add it to a new dataframe\n",
    "svi_by_nei = svi_by_nei[columns_to_keep]\n",
    "\n",
    "svi_by_nei.info()"
   ]
  },
  {
   "cell_type": "markdown",
   "id": "d55e3991-93e8-4a53-82ca-0798f1606eb3",
   "metadata": {},
   "source": [
    "Now that I have all of the relevant columns I need, I want to query the data for just the census tracts I'm interested in (aka the census tracts with the highest SVI score in each of the 4 priority neighborhoods identified earlier through spatial autocorrelation)."
   ]
  },
  {
   "cell_type": "code",
   "execution_count": 11,
   "id": "73274f99-a7b7-43f3-b169-3eda1b30a5b9",
   "metadata": {},
   "outputs": [
    {
     "data": {
      "text/html": [
       "<div>\n",
       "<style scoped>\n",
       "    .dataframe tbody tr th:only-of-type {\n",
       "        vertical-align: middle;\n",
       "    }\n",
       "\n",
       "    .dataframe tbody tr th {\n",
       "        vertical-align: top;\n",
       "    }\n",
       "\n",
       "    .dataframe thead th {\n",
       "        text-align: right;\n",
       "    }\n",
       "</style>\n",
       "<table border=\"1\" class=\"dataframe\">\n",
       "  <thead>\n",
       "    <tr style=\"text-align: right;\">\n",
       "      <th></th>\n",
       "      <th>Census_Tract</th>\n",
       "      <th>Population</th>\n",
       "      <th>Children</th>\n",
       "      <th>Older_Adults_Living_Alone</th>\n",
       "      <th>Limited_English</th>\n",
       "      <th>No_High_School_Diploma</th>\n",
       "      <th>Female_Householder</th>\n",
       "      <th>Asthma</th>\n",
       "      <th>Cardiovascular_Disease</th>\n",
       "      <th>Disability</th>\n",
       "      <th>No_Health_Insurance</th>\n",
       "      <th>Living_in_Group_Quarters</th>\n",
       "      <th>Mobile_Homes</th>\n",
       "      <th>Rent_Burden</th>\n",
       "      <th>Renters</th>\n",
       "      <th>Poverty</th>\n",
       "      <th>Households_Without_Vehicle_Acce</th>\n",
       "      <th>Transit_Access</th>\n",
       "      <th>Outdoor_Workers</th>\n",
       "      <th>Unemployed</th>\n",
       "      <th>Foreign_Born</th>\n",
       "      <th>Library_Access</th>\n",
       "      <th>No_Internet_Subscription</th>\n",
       "      <th>Hispanic_Latinx</th>\n",
       "      <th>White</th>\n",
       "      <th>Black</th>\n",
       "      <th>Native_Tribal</th>\n",
       "      <th>Asian</th>\n",
       "      <th>NHOPI</th>\n",
       "      <th>Other_Race</th>\n",
       "      <th>SoVI_Score</th>\n",
       "      <th>geometry</th>\n",
       "      <th>name</th>\n",
       "      <th>location</th>\n",
       "      <th>type</th>\n",
       "    </tr>\n",
       "  </thead>\n",
       "  <tbody>\n",
       "    <tr>\n",
       "      <th>989</th>\n",
       "      <td>Census Tract 5320.01</td>\n",
       "      <td>2822</td>\n",
       "      <td>26.8</td>\n",
       "      <td>20.4</td>\n",
       "      <td>36.0</td>\n",
       "      <td>44.2</td>\n",
       "      <td>14.6</td>\n",
       "      <td>41.4</td>\n",
       "      <td>8.3</td>\n",
       "      <td>18.1</td>\n",
       "      <td>14.5</td>\n",
       "      <td>0.0</td>\n",
       "      <td>0.0</td>\n",
       "      <td>71.1</td>\n",
       "      <td>72.1</td>\n",
       "      <td>23.5</td>\n",
       "      <td>14.6</td>\n",
       "      <td>100.0</td>\n",
       "      <td>8.8</td>\n",
       "      <td>3.2</td>\n",
       "      <td>40.2</td>\n",
       "      <td>2.0</td>\n",
       "      <td>46.5</td>\n",
       "      <td>93.5</td>\n",
       "      <td>4.5</td>\n",
       "      <td>1.3</td>\n",
       "      <td>0.0</td>\n",
       "      <td>0.7</td>\n",
       "      <td>0.0</td>\n",
       "      <td>0.0</td>\n",
       "      <td>4.98</td>\n",
       "      <td>POLYGON ((-118.12982 34.00242, -118.12708 34.0...</td>\n",
       "      <td>Montebello</td>\n",
       "      <td>POINT(34.010314998189017 -118.10833743364199)</td>\n",
       "      <td>standalone-city</td>\n",
       "    </tr>\n",
       "  </tbody>\n",
       "</table>\n",
       "</div>"
      ],
      "text/plain": [
       "             Census_Tract  Population  Children  Older_Adults_Living_Alone  \\\n",
       "989  Census Tract 5320.01        2822      26.8                       20.4   \n",
       "\n",
       "     Limited_English  No_High_School_Diploma  Female_Householder  Asthma  \\\n",
       "989             36.0                    44.2                14.6    41.4   \n",
       "\n",
       "     Cardiovascular_Disease  Disability  No_Health_Insurance  \\\n",
       "989                     8.3        18.1                 14.5   \n",
       "\n",
       "     Living_in_Group_Quarters  Mobile_Homes  Rent_Burden  Renters  Poverty  \\\n",
       "989                       0.0           0.0         71.1     72.1     23.5   \n",
       "\n",
       "     Households_Without_Vehicle_Acce  Transit_Access  Outdoor_Workers  \\\n",
       "989                             14.6           100.0              8.8   \n",
       "\n",
       "     Unemployed  Foreign_Born  Library_Access  No_Internet_Subscription  \\\n",
       "989         3.2          40.2             2.0                      46.5   \n",
       "\n",
       "     Hispanic_Latinx  White  Black  Native_Tribal  Asian  NHOPI  Other_Race  \\\n",
       "989             93.5    4.5    1.3            0.0    0.7    0.0         0.0   \n",
       "\n",
       "     SoVI_Score                                           geometry  \\\n",
       "989        4.98  POLYGON ((-118.12982 34.00242, -118.12708 34.0...   \n",
       "\n",
       "           name                                       location  \\\n",
       "989  Montebello  POINT(34.010314998189017 -118.10833743364199)   \n",
       "\n",
       "                type  \n",
       "989  standalone-city  "
      ]
     },
     "execution_count": 11,
     "metadata": {},
     "output_type": "execute_result"
    }
   ],
   "source": [
    "#create dataframe for only the census tracts for the neighborhoods that are HH clusters\n",
    "montebello = svi_by_nei[svi_by_nei['name']=='Montebello']\n",
    "montebello_sorted = montebello.sort_values(by='SoVI_Score',ascending = False)\n",
    "\n",
    "#top10\n",
    "montebello_top = montebello_sorted.head(1)\n",
    "montebello_top"
   ]
  },
  {
   "cell_type": "code",
   "execution_count": 12,
   "id": "39f687e0-7d2c-4ded-a9f8-c714ebef78d8",
   "metadata": {},
   "outputs": [
    {
     "data": {
      "text/html": [
       "<div>\n",
       "<style scoped>\n",
       "    .dataframe tbody tr th:only-of-type {\n",
       "        vertical-align: middle;\n",
       "    }\n",
       "\n",
       "    .dataframe tbody tr th {\n",
       "        vertical-align: top;\n",
       "    }\n",
       "\n",
       "    .dataframe thead th {\n",
       "        text-align: right;\n",
       "    }\n",
       "</style>\n",
       "<table border=\"1\" class=\"dataframe\">\n",
       "  <thead>\n",
       "    <tr style=\"text-align: right;\">\n",
       "      <th></th>\n",
       "      <th>Census_Tract</th>\n",
       "      <th>Population</th>\n",
       "      <th>Children</th>\n",
       "      <th>Older_Adults_Living_Alone</th>\n",
       "      <th>Limited_English</th>\n",
       "      <th>No_High_School_Diploma</th>\n",
       "      <th>Female_Householder</th>\n",
       "      <th>Asthma</th>\n",
       "      <th>Cardiovascular_Disease</th>\n",
       "      <th>Disability</th>\n",
       "      <th>No_Health_Insurance</th>\n",
       "      <th>Living_in_Group_Quarters</th>\n",
       "      <th>Mobile_Homes</th>\n",
       "      <th>Rent_Burden</th>\n",
       "      <th>Renters</th>\n",
       "      <th>Poverty</th>\n",
       "      <th>Households_Without_Vehicle_Acce</th>\n",
       "      <th>Transit_Access</th>\n",
       "      <th>Outdoor_Workers</th>\n",
       "      <th>Unemployed</th>\n",
       "      <th>Foreign_Born</th>\n",
       "      <th>Library_Access</th>\n",
       "      <th>No_Internet_Subscription</th>\n",
       "      <th>Hispanic_Latinx</th>\n",
       "      <th>White</th>\n",
       "      <th>Black</th>\n",
       "      <th>Native_Tribal</th>\n",
       "      <th>Asian</th>\n",
       "      <th>NHOPI</th>\n",
       "      <th>Other_Race</th>\n",
       "      <th>SoVI_Score</th>\n",
       "      <th>geometry</th>\n",
       "      <th>name</th>\n",
       "      <th>location</th>\n",
       "      <th>type</th>\n",
       "    </tr>\n",
       "  </thead>\n",
       "  <tbody>\n",
       "    <tr>\n",
       "      <th>915</th>\n",
       "      <td>Census Tract 9001.02</td>\n",
       "      <td>588</td>\n",
       "      <td>19.3</td>\n",
       "      <td>28.5</td>\n",
       "      <td>12.1</td>\n",
       "      <td>43.1</td>\n",
       "      <td>6.6</td>\n",
       "      <td>108.4</td>\n",
       "      <td>13.5</td>\n",
       "      <td>21.1</td>\n",
       "      <td>9.9</td>\n",
       "      <td>0.0</td>\n",
       "      <td>19.1</td>\n",
       "      <td>55.3</td>\n",
       "      <td>36.7</td>\n",
       "      <td>32.9</td>\n",
       "      <td>16.8</td>\n",
       "      <td>0.0</td>\n",
       "      <td>18.5</td>\n",
       "      <td>5.2</td>\n",
       "      <td>24.0</td>\n",
       "      <td>7.3</td>\n",
       "      <td>44.5</td>\n",
       "      <td>48.0</td>\n",
       "      <td>44.7</td>\n",
       "      <td>1.5</td>\n",
       "      <td>0.0</td>\n",
       "      <td>2.2</td>\n",
       "      <td>0.0</td>\n",
       "      <td>0.7</td>\n",
       "      <td>4.13</td>\n",
       "      <td>POLYGON ((-117.77437 34.82330, -117.77421 34.8...</td>\n",
       "      <td>Lake Los Angeles</td>\n",
       "      <td>POINT(34.611038948416571 -117.83603921804665)</td>\n",
       "      <td>unincorporated-area</td>\n",
       "    </tr>\n",
       "  </tbody>\n",
       "</table>\n",
       "</div>"
      ],
      "text/plain": [
       "             Census_Tract  Population  Children  Older_Adults_Living_Alone  \\\n",
       "915  Census Tract 9001.02         588      19.3                       28.5   \n",
       "\n",
       "     Limited_English  No_High_School_Diploma  Female_Householder  Asthma  \\\n",
       "915             12.1                    43.1                 6.6   108.4   \n",
       "\n",
       "     Cardiovascular_Disease  Disability  No_Health_Insurance  \\\n",
       "915                    13.5        21.1                  9.9   \n",
       "\n",
       "     Living_in_Group_Quarters  Mobile_Homes  Rent_Burden  Renters  Poverty  \\\n",
       "915                       0.0          19.1         55.3     36.7     32.9   \n",
       "\n",
       "     Households_Without_Vehicle_Acce  Transit_Access  Outdoor_Workers  \\\n",
       "915                             16.8             0.0             18.5   \n",
       "\n",
       "     Unemployed  Foreign_Born  Library_Access  No_Internet_Subscription  \\\n",
       "915         5.2          24.0             7.3                      44.5   \n",
       "\n",
       "     Hispanic_Latinx  White  Black  Native_Tribal  Asian  NHOPI  Other_Race  \\\n",
       "915             48.0   44.7    1.5            0.0    2.2    0.0         0.7   \n",
       "\n",
       "     SoVI_Score                                           geometry  \\\n",
       "915        4.13  POLYGON ((-117.77437 34.82330, -117.77421 34.8...   \n",
       "\n",
       "                 name                                       location  \\\n",
       "915  Lake Los Angeles  POINT(34.611038948416571 -117.83603921804665)   \n",
       "\n",
       "                    type  \n",
       "915  unincorporated-area  "
      ]
     },
     "execution_count": 12,
     "metadata": {},
     "output_type": "execute_result"
    }
   ],
   "source": [
    "#create dataframe for only the census tracts for the neighborhoods that are HH clusters\n",
    "lakelosangeles = svi_by_nei[svi_by_nei['name']=='Lake Los Angeles']\n",
    "lakelosangeles_sorted = lakelosangeles.sort_values(by='SoVI_Score',ascending = False)\n",
    "\n",
    "#top10\n",
    "lakelosangeles_top = lakelosangeles_sorted.head(1)\n",
    "lakelosangeles_top"
   ]
  },
  {
   "cell_type": "code",
   "execution_count": 13,
   "id": "1722742f-3338-49d8-b3b9-b986de71bdad",
   "metadata": {},
   "outputs": [
    {
     "data": {
      "text/html": [
       "<div>\n",
       "<style scoped>\n",
       "    .dataframe tbody tr th:only-of-type {\n",
       "        vertical-align: middle;\n",
       "    }\n",
       "\n",
       "    .dataframe tbody tr th {\n",
       "        vertical-align: top;\n",
       "    }\n",
       "\n",
       "    .dataframe thead th {\n",
       "        text-align: right;\n",
       "    }\n",
       "</style>\n",
       "<table border=\"1\" class=\"dataframe\">\n",
       "  <thead>\n",
       "    <tr style=\"text-align: right;\">\n",
       "      <th></th>\n",
       "      <th>Census_Tract</th>\n",
       "      <th>Population</th>\n",
       "      <th>Children</th>\n",
       "      <th>Older_Adults_Living_Alone</th>\n",
       "      <th>Limited_English</th>\n",
       "      <th>No_High_School_Diploma</th>\n",
       "      <th>Female_Householder</th>\n",
       "      <th>Asthma</th>\n",
       "      <th>Cardiovascular_Disease</th>\n",
       "      <th>Disability</th>\n",
       "      <th>No_Health_Insurance</th>\n",
       "      <th>Living_in_Group_Quarters</th>\n",
       "      <th>Mobile_Homes</th>\n",
       "      <th>Rent_Burden</th>\n",
       "      <th>Renters</th>\n",
       "      <th>Poverty</th>\n",
       "      <th>Households_Without_Vehicle_Acce</th>\n",
       "      <th>Transit_Access</th>\n",
       "      <th>Outdoor_Workers</th>\n",
       "      <th>Unemployed</th>\n",
       "      <th>Foreign_Born</th>\n",
       "      <th>Library_Access</th>\n",
       "      <th>No_Internet_Subscription</th>\n",
       "      <th>Hispanic_Latinx</th>\n",
       "      <th>White</th>\n",
       "      <th>Black</th>\n",
       "      <th>Native_Tribal</th>\n",
       "      <th>Asian</th>\n",
       "      <th>NHOPI</th>\n",
       "      <th>Other_Race</th>\n",
       "      <th>SoVI_Score</th>\n",
       "      <th>geometry</th>\n",
       "      <th>name</th>\n",
       "      <th>location</th>\n",
       "      <th>type</th>\n",
       "    </tr>\n",
       "  </thead>\n",
       "  <tbody>\n",
       "    <tr>\n",
       "      <th>1753</th>\n",
       "      <td>Census Tract 5758.03</td>\n",
       "      <td>2938</td>\n",
       "      <td>26.7</td>\n",
       "      <td>30.3</td>\n",
       "      <td>23.8</td>\n",
       "      <td>35.5</td>\n",
       "      <td>8.0</td>\n",
       "      <td>115.3</td>\n",
       "      <td>11.3</td>\n",
       "      <td>15.6</td>\n",
       "      <td>14.9</td>\n",
       "      <td>0.6</td>\n",
       "      <td>0.0</td>\n",
       "      <td>57.1</td>\n",
       "      <td>88.7</td>\n",
       "      <td>36.4</td>\n",
       "      <td>36.9</td>\n",
       "      <td>100.0</td>\n",
       "      <td>7.1</td>\n",
       "      <td>6.6</td>\n",
       "      <td>39.1</td>\n",
       "      <td>0.8</td>\n",
       "      <td>35.9</td>\n",
       "      <td>61.3</td>\n",
       "      <td>17.1</td>\n",
       "      <td>11.2</td>\n",
       "      <td>0.4</td>\n",
       "      <td>8.2</td>\n",
       "      <td>0.0</td>\n",
       "      <td>0.0</td>\n",
       "      <td>7.25</td>\n",
       "      <td>POLYGON ((-118.19506 33.78259, -118.19372 33.7...</td>\n",
       "      <td>Long Beach</td>\n",
       "      <td>POINT(33.806580699978731 -118.156064)</td>\n",
       "      <td>standalone-city</td>\n",
       "    </tr>\n",
       "  </tbody>\n",
       "</table>\n",
       "</div>"
      ],
      "text/plain": [
       "              Census_Tract  Population  Children  Older_Adults_Living_Alone  \\\n",
       "1753  Census Tract 5758.03        2938      26.7                       30.3   \n",
       "\n",
       "      Limited_English  No_High_School_Diploma  Female_Householder  Asthma  \\\n",
       "1753             23.8                    35.5                 8.0   115.3   \n",
       "\n",
       "      Cardiovascular_Disease  Disability  No_Health_Insurance  \\\n",
       "1753                    11.3        15.6                 14.9   \n",
       "\n",
       "      Living_in_Group_Quarters  Mobile_Homes  Rent_Burden  Renters  Poverty  \\\n",
       "1753                       0.6           0.0         57.1     88.7     36.4   \n",
       "\n",
       "      Households_Without_Vehicle_Acce  Transit_Access  Outdoor_Workers  \\\n",
       "1753                             36.9           100.0              7.1   \n",
       "\n",
       "      Unemployed  Foreign_Born  Library_Access  No_Internet_Subscription  \\\n",
       "1753         6.6          39.1             0.8                      35.9   \n",
       "\n",
       "      Hispanic_Latinx  White  Black  Native_Tribal  Asian  NHOPI  Other_Race  \\\n",
       "1753             61.3   17.1   11.2            0.4    8.2    0.0         0.0   \n",
       "\n",
       "      SoVI_Score                                           geometry  \\\n",
       "1753        7.25  POLYGON ((-118.19506 33.78259, -118.19372 33.7...   \n",
       "\n",
       "            name                               location             type  \n",
       "1753  Long Beach  POINT(33.806580699978731 -118.156064)  standalone-city  "
      ]
     },
     "execution_count": 13,
     "metadata": {},
     "output_type": "execute_result"
    }
   ],
   "source": [
    "#create dataframe for only the census tracts for the neighborhoods that are HH clusters\n",
    "longbeach = svi_by_nei[svi_by_nei['name']=='Long Beach']\n",
    "longbeach_sorted = longbeach.sort_values(by='SoVI_Score',ascending = False)\n",
    "\n",
    "#top10\n",
    "longbeach_top = longbeach_sorted.head(1)\n",
    "longbeach_top"
   ]
  },
  {
   "cell_type": "code",
   "execution_count": 21,
   "id": "e2c4139c-e63b-4530-aa91-483febd40455",
   "metadata": {},
   "outputs": [
    {
     "data": {
      "text/html": [
       "<div>\n",
       "<style scoped>\n",
       "    .dataframe tbody tr th:only-of-type {\n",
       "        vertical-align: middle;\n",
       "    }\n",
       "\n",
       "    .dataframe tbody tr th {\n",
       "        vertical-align: top;\n",
       "    }\n",
       "\n",
       "    .dataframe thead th {\n",
       "        text-align: right;\n",
       "    }\n",
       "</style>\n",
       "<table border=\"1\" class=\"dataframe\">\n",
       "  <thead>\n",
       "    <tr style=\"text-align: right;\">\n",
       "      <th></th>\n",
       "      <th>Census_Tract</th>\n",
       "      <th>Population</th>\n",
       "      <th>Children</th>\n",
       "      <th>Older_Adults_Living_Alone</th>\n",
       "      <th>Limited_English</th>\n",
       "      <th>No_High_School_Diploma</th>\n",
       "      <th>Female_Householder</th>\n",
       "      <th>Asthma</th>\n",
       "      <th>Cardiovascular_Disease</th>\n",
       "      <th>Disability</th>\n",
       "      <th>No_Health_Insurance</th>\n",
       "      <th>Living_in_Group_Quarters</th>\n",
       "      <th>Mobile_Homes</th>\n",
       "      <th>Rent_Burden</th>\n",
       "      <th>Renters</th>\n",
       "      <th>Poverty</th>\n",
       "      <th>Households_Without_Vehicle_Acce</th>\n",
       "      <th>Transit_Access</th>\n",
       "      <th>Outdoor_Workers</th>\n",
       "      <th>Unemployed</th>\n",
       "      <th>Foreign_Born</th>\n",
       "      <th>Library_Access</th>\n",
       "      <th>No_Internet_Subscription</th>\n",
       "      <th>Hispanic_Latinx</th>\n",
       "      <th>White</th>\n",
       "      <th>Black</th>\n",
       "      <th>Native_Tribal</th>\n",
       "      <th>Asian</th>\n",
       "      <th>NHOPI</th>\n",
       "      <th>Other_Race</th>\n",
       "      <th>SoVI_Score</th>\n",
       "      <th>geometry</th>\n",
       "      <th>name</th>\n",
       "      <th>location</th>\n",
       "      <th>type</th>\n",
       "    </tr>\n",
       "  </thead>\n",
       "  <tbody>\n",
       "    <tr>\n",
       "      <th>2287</th>\n",
       "      <td>Census Tract 2122.03</td>\n",
       "      <td>2978</td>\n",
       "      <td>19.8</td>\n",
       "      <td>21.2</td>\n",
       "      <td>57.0</td>\n",
       "      <td>57.3</td>\n",
       "      <td>15.8</td>\n",
       "      <td>38.6</td>\n",
       "      <td>7.0</td>\n",
       "      <td>10.1</td>\n",
       "      <td>32.6</td>\n",
       "      <td>0.0</td>\n",
       "      <td>1.3</td>\n",
       "      <td>59.5</td>\n",
       "      <td>100.0</td>\n",
       "      <td>50.1</td>\n",
       "      <td>46.4</td>\n",
       "      <td>100.0</td>\n",
       "      <td>19.5</td>\n",
       "      <td>6.9</td>\n",
       "      <td>71.7</td>\n",
       "      <td>0.4</td>\n",
       "      <td>47.2</td>\n",
       "      <td>62.7</td>\n",
       "      <td>5.4</td>\n",
       "      <td>4.1</td>\n",
       "      <td>0.0</td>\n",
       "      <td>24.8</td>\n",
       "      <td>0.8</td>\n",
       "      <td>0.6</td>\n",
       "      <td>5.35</td>\n",
       "      <td>POLYGON ((-118.29164 34.06179, -118.28909 34.0...</td>\n",
       "      <td>Koreatown</td>\n",
       "      <td>POINT(34.064510499123763 -118.3049585)</td>\n",
       "      <td>segment-of-a-city</td>\n",
       "    </tr>\n",
       "  </tbody>\n",
       "</table>\n",
       "</div>"
      ],
      "text/plain": [
       "              Census_Tract  Population  Children  Older_Adults_Living_Alone  \\\n",
       "2287  Census Tract 2122.03        2978      19.8                       21.2   \n",
       "\n",
       "      Limited_English  No_High_School_Diploma  Female_Householder  Asthma  \\\n",
       "2287             57.0                    57.3                15.8    38.6   \n",
       "\n",
       "      Cardiovascular_Disease  Disability  No_Health_Insurance  \\\n",
       "2287                     7.0        10.1                 32.6   \n",
       "\n",
       "      Living_in_Group_Quarters  Mobile_Homes  Rent_Burden  Renters  Poverty  \\\n",
       "2287                       0.0           1.3         59.5    100.0     50.1   \n",
       "\n",
       "      Households_Without_Vehicle_Acce  Transit_Access  Outdoor_Workers  \\\n",
       "2287                             46.4           100.0             19.5   \n",
       "\n",
       "      Unemployed  Foreign_Born  Library_Access  No_Internet_Subscription  \\\n",
       "2287         6.9          71.7             0.4                      47.2   \n",
       "\n",
       "      Hispanic_Latinx  White  Black  Native_Tribal  Asian  NHOPI  Other_Race  \\\n",
       "2287             62.7    5.4    4.1            0.0   24.8    0.8         0.6   \n",
       "\n",
       "      SoVI_Score                                           geometry  \\\n",
       "2287        5.35  POLYGON ((-118.29164 34.06179, -118.28909 34.0...   \n",
       "\n",
       "           name                                location               type  \n",
       "2287  Koreatown  POINT(34.064510499123763 -118.3049585)  segment-of-a-city  "
      ]
     },
     "execution_count": 21,
     "metadata": {},
     "output_type": "execute_result"
    }
   ],
   "source": [
    "#create dataframe for only the census tracts for the neighborhoods that are HH clusters\n",
    "ktown = svi_by_nei[svi_by_nei['name']=='Koreatown']\n",
    "ktown_sorted = ktown.sort_values(by='SoVI_Score',ascending = False)\n",
    "\n",
    "#top10\n",
    "ktown_top = ktown_sorted.head(1)\n",
    "ktown_top"
   ]
  },
  {
   "cell_type": "markdown",
   "id": "4b6e560e-fe9b-438f-92b3-7a366011cd7e",
   "metadata": {},
   "source": [
    "Now that I have identified the highest vulnerability census tracts for each of the 4 priority neighborhoods, I will create a new dataframe for just this data."
   ]
  },
  {
   "cell_type": "code",
   "execution_count": 22,
   "id": "5af39123-c1fc-43d6-9d71-43f1762de1a1",
   "metadata": {},
   "outputs": [
    {
     "data": {
      "text/html": [
       "<div>\n",
       "<style scoped>\n",
       "    .dataframe tbody tr th:only-of-type {\n",
       "        vertical-align: middle;\n",
       "    }\n",
       "\n",
       "    .dataframe tbody tr th {\n",
       "        vertical-align: top;\n",
       "    }\n",
       "\n",
       "    .dataframe thead th {\n",
       "        text-align: right;\n",
       "    }\n",
       "</style>\n",
       "<table border=\"1\" class=\"dataframe\">\n",
       "  <thead>\n",
       "    <tr style=\"text-align: right;\">\n",
       "      <th></th>\n",
       "      <th>Census_Tract</th>\n",
       "      <th>Population</th>\n",
       "      <th>Children</th>\n",
       "      <th>Older_Adults_Living_Alone</th>\n",
       "      <th>Limited_English</th>\n",
       "      <th>No_High_School_Diploma</th>\n",
       "      <th>Female_Householder</th>\n",
       "      <th>Asthma</th>\n",
       "      <th>Cardiovascular_Disease</th>\n",
       "      <th>Disability</th>\n",
       "      <th>No_Health_Insurance</th>\n",
       "      <th>Living_in_Group_Quarters</th>\n",
       "      <th>Mobile_Homes</th>\n",
       "      <th>Rent_Burden</th>\n",
       "      <th>Renters</th>\n",
       "      <th>Poverty</th>\n",
       "      <th>Households_Without_Vehicle_Acce</th>\n",
       "      <th>Transit_Access</th>\n",
       "      <th>Outdoor_Workers</th>\n",
       "      <th>Unemployed</th>\n",
       "      <th>Foreign_Born</th>\n",
       "      <th>Library_Access</th>\n",
       "      <th>No_Internet_Subscription</th>\n",
       "      <th>Hispanic_Latinx</th>\n",
       "      <th>White</th>\n",
       "      <th>Black</th>\n",
       "      <th>Native_Tribal</th>\n",
       "      <th>Asian</th>\n",
       "      <th>NHOPI</th>\n",
       "      <th>Other_Race</th>\n",
       "      <th>SoVI_Score</th>\n",
       "      <th>geometry</th>\n",
       "      <th>name</th>\n",
       "      <th>location</th>\n",
       "      <th>type</th>\n",
       "    </tr>\n",
       "  </thead>\n",
       "  <tbody>\n",
       "    <tr>\n",
       "      <th>1753</th>\n",
       "      <td>Census Tract 5758.03</td>\n",
       "      <td>2938</td>\n",
       "      <td>26.7</td>\n",
       "      <td>30.3</td>\n",
       "      <td>23.8</td>\n",
       "      <td>35.5</td>\n",
       "      <td>8.0</td>\n",
       "      <td>115.3</td>\n",
       "      <td>11.3</td>\n",
       "      <td>15.6</td>\n",
       "      <td>14.9</td>\n",
       "      <td>0.6</td>\n",
       "      <td>0.0</td>\n",
       "      <td>57.1</td>\n",
       "      <td>88.7</td>\n",
       "      <td>36.4</td>\n",
       "      <td>36.9</td>\n",
       "      <td>100.0</td>\n",
       "      <td>7.1</td>\n",
       "      <td>6.6</td>\n",
       "      <td>39.1</td>\n",
       "      <td>0.8</td>\n",
       "      <td>35.9</td>\n",
       "      <td>61.3</td>\n",
       "      <td>17.1</td>\n",
       "      <td>11.2</td>\n",
       "      <td>0.4</td>\n",
       "      <td>8.2</td>\n",
       "      <td>0.0</td>\n",
       "      <td>0.0</td>\n",
       "      <td>7.25</td>\n",
       "      <td>POLYGON ((-118.19506 33.78259, -118.19372 33.7...</td>\n",
       "      <td>Long Beach</td>\n",
       "      <td>POINT(33.806580699978731 -118.156064)</td>\n",
       "      <td>standalone-city</td>\n",
       "    </tr>\n",
       "    <tr>\n",
       "      <th>989</th>\n",
       "      <td>Census Tract 5320.01</td>\n",
       "      <td>2822</td>\n",
       "      <td>26.8</td>\n",
       "      <td>20.4</td>\n",
       "      <td>36.0</td>\n",
       "      <td>44.2</td>\n",
       "      <td>14.6</td>\n",
       "      <td>41.4</td>\n",
       "      <td>8.3</td>\n",
       "      <td>18.1</td>\n",
       "      <td>14.5</td>\n",
       "      <td>0.0</td>\n",
       "      <td>0.0</td>\n",
       "      <td>71.1</td>\n",
       "      <td>72.1</td>\n",
       "      <td>23.5</td>\n",
       "      <td>14.6</td>\n",
       "      <td>100.0</td>\n",
       "      <td>8.8</td>\n",
       "      <td>3.2</td>\n",
       "      <td>40.2</td>\n",
       "      <td>2.0</td>\n",
       "      <td>46.5</td>\n",
       "      <td>93.5</td>\n",
       "      <td>4.5</td>\n",
       "      <td>1.3</td>\n",
       "      <td>0.0</td>\n",
       "      <td>0.7</td>\n",
       "      <td>0.0</td>\n",
       "      <td>0.0</td>\n",
       "      <td>4.98</td>\n",
       "      <td>POLYGON ((-118.12982 34.00242, -118.12708 34.0...</td>\n",
       "      <td>Montebello</td>\n",
       "      <td>POINT(34.010314998189017 -118.10833743364199)</td>\n",
       "      <td>standalone-city</td>\n",
       "    </tr>\n",
       "    <tr>\n",
       "      <th>2287</th>\n",
       "      <td>Census Tract 2122.03</td>\n",
       "      <td>2978</td>\n",
       "      <td>19.8</td>\n",
       "      <td>21.2</td>\n",
       "      <td>57.0</td>\n",
       "      <td>57.3</td>\n",
       "      <td>15.8</td>\n",
       "      <td>38.6</td>\n",
       "      <td>7.0</td>\n",
       "      <td>10.1</td>\n",
       "      <td>32.6</td>\n",
       "      <td>0.0</td>\n",
       "      <td>1.3</td>\n",
       "      <td>59.5</td>\n",
       "      <td>100.0</td>\n",
       "      <td>50.1</td>\n",
       "      <td>46.4</td>\n",
       "      <td>100.0</td>\n",
       "      <td>19.5</td>\n",
       "      <td>6.9</td>\n",
       "      <td>71.7</td>\n",
       "      <td>0.4</td>\n",
       "      <td>47.2</td>\n",
       "      <td>62.7</td>\n",
       "      <td>5.4</td>\n",
       "      <td>4.1</td>\n",
       "      <td>0.0</td>\n",
       "      <td>24.8</td>\n",
       "      <td>0.8</td>\n",
       "      <td>0.6</td>\n",
       "      <td>5.35</td>\n",
       "      <td>POLYGON ((-118.29164 34.06179, -118.28909 34.0...</td>\n",
       "      <td>Koreatown</td>\n",
       "      <td>POINT(34.064510499123763 -118.3049585)</td>\n",
       "      <td>segment-of-a-city</td>\n",
       "    </tr>\n",
       "    <tr>\n",
       "      <th>915</th>\n",
       "      <td>Census Tract 9001.02</td>\n",
       "      <td>588</td>\n",
       "      <td>19.3</td>\n",
       "      <td>28.5</td>\n",
       "      <td>12.1</td>\n",
       "      <td>43.1</td>\n",
       "      <td>6.6</td>\n",
       "      <td>108.4</td>\n",
       "      <td>13.5</td>\n",
       "      <td>21.1</td>\n",
       "      <td>9.9</td>\n",
       "      <td>0.0</td>\n",
       "      <td>19.1</td>\n",
       "      <td>55.3</td>\n",
       "      <td>36.7</td>\n",
       "      <td>32.9</td>\n",
       "      <td>16.8</td>\n",
       "      <td>0.0</td>\n",
       "      <td>18.5</td>\n",
       "      <td>5.2</td>\n",
       "      <td>24.0</td>\n",
       "      <td>7.3</td>\n",
       "      <td>44.5</td>\n",
       "      <td>48.0</td>\n",
       "      <td>44.7</td>\n",
       "      <td>1.5</td>\n",
       "      <td>0.0</td>\n",
       "      <td>2.2</td>\n",
       "      <td>0.0</td>\n",
       "      <td>0.7</td>\n",
       "      <td>4.13</td>\n",
       "      <td>POLYGON ((-117.77437 34.82330, -117.77421 34.8...</td>\n",
       "      <td>Lake Los Angeles</td>\n",
       "      <td>POINT(34.611038948416571 -117.83603921804665)</td>\n",
       "      <td>unincorporated-area</td>\n",
       "    </tr>\n",
       "  </tbody>\n",
       "</table>\n",
       "</div>"
      ],
      "text/plain": [
       "              Census_Tract  Population  Children  Older_Adults_Living_Alone  \\\n",
       "1753  Census Tract 5758.03        2938      26.7                       30.3   \n",
       "989   Census Tract 5320.01        2822      26.8                       20.4   \n",
       "2287  Census Tract 2122.03        2978      19.8                       21.2   \n",
       "915   Census Tract 9001.02         588      19.3                       28.5   \n",
       "\n",
       "      Limited_English  No_High_School_Diploma  Female_Householder  Asthma  \\\n",
       "1753             23.8                    35.5                 8.0   115.3   \n",
       "989              36.0                    44.2                14.6    41.4   \n",
       "2287             57.0                    57.3                15.8    38.6   \n",
       "915              12.1                    43.1                 6.6   108.4   \n",
       "\n",
       "      Cardiovascular_Disease  Disability  No_Health_Insurance  \\\n",
       "1753                    11.3        15.6                 14.9   \n",
       "989                      8.3        18.1                 14.5   \n",
       "2287                     7.0        10.1                 32.6   \n",
       "915                     13.5        21.1                  9.9   \n",
       "\n",
       "      Living_in_Group_Quarters  Mobile_Homes  Rent_Burden  Renters  Poverty  \\\n",
       "1753                       0.6           0.0         57.1     88.7     36.4   \n",
       "989                        0.0           0.0         71.1     72.1     23.5   \n",
       "2287                       0.0           1.3         59.5    100.0     50.1   \n",
       "915                        0.0          19.1         55.3     36.7     32.9   \n",
       "\n",
       "      Households_Without_Vehicle_Acce  Transit_Access  Outdoor_Workers  \\\n",
       "1753                             36.9           100.0              7.1   \n",
       "989                              14.6           100.0              8.8   \n",
       "2287                             46.4           100.0             19.5   \n",
       "915                              16.8             0.0             18.5   \n",
       "\n",
       "      Unemployed  Foreign_Born  Library_Access  No_Internet_Subscription  \\\n",
       "1753         6.6          39.1             0.8                      35.9   \n",
       "989          3.2          40.2             2.0                      46.5   \n",
       "2287         6.9          71.7             0.4                      47.2   \n",
       "915          5.2          24.0             7.3                      44.5   \n",
       "\n",
       "      Hispanic_Latinx  White  Black  Native_Tribal  Asian  NHOPI  Other_Race  \\\n",
       "1753             61.3   17.1   11.2            0.4    8.2    0.0         0.0   \n",
       "989              93.5    4.5    1.3            0.0    0.7    0.0         0.0   \n",
       "2287             62.7    5.4    4.1            0.0   24.8    0.8         0.6   \n",
       "915              48.0   44.7    1.5            0.0    2.2    0.0         0.7   \n",
       "\n",
       "      SoVI_Score                                           geometry  \\\n",
       "1753        7.25  POLYGON ((-118.19506 33.78259, -118.19372 33.7...   \n",
       "989         4.98  POLYGON ((-118.12982 34.00242, -118.12708 34.0...   \n",
       "2287        5.35  POLYGON ((-118.29164 34.06179, -118.28909 34.0...   \n",
       "915         4.13  POLYGON ((-117.77437 34.82330, -117.77421 34.8...   \n",
       "\n",
       "                  name                                       location  \\\n",
       "1753        Long Beach          POINT(33.806580699978731 -118.156064)   \n",
       "989         Montebello  POINT(34.010314998189017 -118.10833743364199)   \n",
       "2287         Koreatown         POINT(34.064510499123763 -118.3049585)   \n",
       "915   Lake Los Angeles  POINT(34.611038948416571 -117.83603921804665)   \n",
       "\n",
       "                     type  \n",
       "1753      standalone-city  \n",
       "989       standalone-city  \n",
       "2287    segment-of-a-city  \n",
       "915   unincorporated-area  "
      ]
     },
     "execution_count": 22,
     "metadata": {},
     "output_type": "execute_result"
    }
   ],
   "source": [
    "#create new dataframe where data is trimmed to just include featured HH neighborhoods\n",
    "featured = svi_by_nei[((svi_by_nei.Census_Tract=='Census Tract 5320.01') & (svi_by_nei.name=='Montebello')) | ((svi_by_nei.Census_Tract=='Census Tract 9001.02') & (svi_by_nei.name == 'Lake Los Angeles')) | ((svi_by_nei.Census_Tract=='Census Tract 5758.03')& (svi_by_nei.name == 'Long Beach')) | ((svi_by_nei.Census_Tract=='Census Tract 2122.03') & (svi_by_nei.name=='Koreatown')) ]\n",
    "featured.head(10)"
   ]
  },
  {
   "cell_type": "markdown",
   "id": "efbad89f-a808-4daf-8fdd-46e149694a97",
   "metadata": {},
   "source": [
    "In order to create a stacked bar chart for the type of data I have, I need to convert all datatypes from floats to integers for it to display correctly. I had to exclude asthma, cardiovascular disease, median income, and library access as those data fields had different measurement metrics (eg case rates per 100,000) and could not be displayed accurately in the stacked bar chart format."
   ]
  },
  {
   "cell_type": "code",
   "execution_count": 15,
   "id": "dd72d71d-517a-472a-bd42-5259b5ba2c6c",
   "metadata": {},
   "outputs": [],
   "source": [
    "#create list of only SVI indicators to convert to int \n",
    "svi_indicators=['Children',\n",
    " 'Older_Adults_Living_Alone',\n",
    " 'Limited_English',\n",
    " 'No_High_School_Diploma',\n",
    " 'Female_Householder',\n",
    " 'Disability',\n",
    " 'No_Health_Insurance',\n",
    " 'Living_in_Group_Quarters',\n",
    " 'Mobile_Homes',\n",
    " 'Rent_Burden',\n",
    " 'Renters',\n",
    " 'Poverty',\n",
    " 'Households_Without_Vehicle_Acce',\n",
    " 'Transit_Access',\n",
    " 'Outdoor_Workers',\n",
    " 'Unemployed',\n",
    " 'Foreign_Born',\n",
    " 'No_Internet_Subscription',\n",
    " 'Hispanic_Latinx',\n",
    " 'White',\n",
    " 'Black',\n",
    " 'Native_Tribal',\n",
    " 'Asian',\n",
    " 'NHOPI',\n",
    " 'Other_Race']"
   ]
  },
  {
   "cell_type": "code",
   "execution_count": 16,
   "id": "1da8b035-de20-4dde-9b62-04ece7665933",
   "metadata": {},
   "outputs": [
    {
     "name": "stdout",
     "output_type": "stream",
     "text": [
      "<class 'geopandas.geodataframe.GeoDataFrame'>\n",
      "Int64Index: 3 entries, 1753 to 915\n",
      "Data columns (total 35 columns):\n",
      " #   Column                           Non-Null Count  Dtype   \n",
      "---  ------                           --------------  -----   \n",
      " 0   Census_Tract                     3 non-null      object  \n",
      " 1   Population                       3 non-null      int64   \n",
      " 2   Children                         3 non-null      int64   \n",
      " 3   Older_Adults_Living_Alone        3 non-null      int64   \n",
      " 4   Limited_English                  3 non-null      int64   \n",
      " 5   No_High_School_Diploma           3 non-null      int64   \n",
      " 6   Female_Householder               3 non-null      int64   \n",
      " 7   Asthma                           3 non-null      float64 \n",
      " 8   Cardiovascular_Disease           3 non-null      float64 \n",
      " 9   Disability                       3 non-null      int64   \n",
      " 10  No_Health_Insurance              3 non-null      int64   \n",
      " 11  Living_in_Group_Quarters         3 non-null      int64   \n",
      " 12  Mobile_Homes                     3 non-null      int64   \n",
      " 13  Rent_Burden                      3 non-null      int64   \n",
      " 14  Renters                          3 non-null      int64   \n",
      " 15  Poverty                          3 non-null      int64   \n",
      " 16  Households_Without_Vehicle_Acce  3 non-null      int64   \n",
      " 17  Transit_Access                   3 non-null      int64   \n",
      " 18  Outdoor_Workers                  3 non-null      int64   \n",
      " 19  Unemployed                       3 non-null      int64   \n",
      " 20  Foreign_Born                     3 non-null      int64   \n",
      " 21  Library_Access                   3 non-null      float64 \n",
      " 22  No_Internet_Subscription         3 non-null      int64   \n",
      " 23  Hispanic_Latinx                  3 non-null      int64   \n",
      " 24  White                            3 non-null      int64   \n",
      " 25  Black                            3 non-null      int64   \n",
      " 26  Native_Tribal                    3 non-null      int64   \n",
      " 27  Asian                            3 non-null      int64   \n",
      " 28  NHOPI                            3 non-null      int64   \n",
      " 29  Other_Race                       3 non-null      int64   \n",
      " 30  SoVI_Score                       3 non-null      float64 \n",
      " 31  geometry                         3 non-null      geometry\n",
      " 32  name                             3 non-null      object  \n",
      " 33  location                         3 non-null      object  \n",
      " 34  type                             3 non-null      object  \n",
      "dtypes: float64(4), geometry(1), int64(26), object(4)\n",
      "memory usage: 864.0+ bytes\n"
     ]
    }
   ],
   "source": [
    "#convert columns to int\n",
    "for i in svi_indicators:\n",
    "    featured = featured.astype({i:'int'})\n",
    "    \n",
    "featured.info()"
   ]
  },
  {
   "cell_type": "markdown",
   "id": "11986750-0ef0-49f7-add3-be45a4dce26c",
   "metadata": {},
   "source": [
    "Now it's time to display the data as a stacked bar chart!"
   ]
  },
  {
   "cell_type": "code",
   "execution_count": 38,
   "id": "cd275cdc-91cf-4777-b055-0115236f40f1",
   "metadata": {},
   "outputs": [
    {
     "data": {
      "application/vnd.plotly.v1+json": {
       "config": {
        "plotlyServerURL": "https://plot.ly"
       },
       "data": [
        {
         "alignmentgroup": "True",
         "hovertemplate": "variable=Children<br>name=%{x}<br>value=%{y}<extra></extra>",
         "legendgroup": "Children",
         "marker": {
          "color": "#636efa",
          "pattern": {
           "shape": ""
          }
         },
         "name": "Children",
         "offsetgroup": "Children",
         "orientation": "v",
         "showlegend": true,
         "textposition": "outside",
         "type": "bar",
         "x": [
          "Long Beach",
          "Montebello",
          "Koreatown",
          "Lake Los Angeles"
         ],
         "xaxis": "x",
         "y": [
          26.7,
          26.8,
          19.8,
          19.3
         ],
         "yaxis": "y"
        },
        {
         "alignmentgroup": "True",
         "hovertemplate": "variable=Older_Adults_Living_Alone<br>name=%{x}<br>value=%{y}<extra></extra>",
         "legendgroup": "Older_Adults_Living_Alone",
         "marker": {
          "color": "#EF553B",
          "pattern": {
           "shape": ""
          }
         },
         "name": "Older_Adults_Living_Alone",
         "offsetgroup": "Older_Adults_Living_Alone",
         "orientation": "v",
         "showlegend": true,
         "textposition": "outside",
         "type": "bar",
         "x": [
          "Long Beach",
          "Montebello",
          "Koreatown",
          "Lake Los Angeles"
         ],
         "xaxis": "x",
         "y": [
          30.3,
          20.4,
          21.2,
          28.5
         ],
         "yaxis": "y"
        },
        {
         "alignmentgroup": "True",
         "hovertemplate": "variable=Limited_English<br>name=%{x}<br>value=%{y}<extra></extra>",
         "legendgroup": "Limited_English",
         "marker": {
          "color": "#00cc96",
          "pattern": {
           "shape": ""
          }
         },
         "name": "Limited_English",
         "offsetgroup": "Limited_English",
         "orientation": "v",
         "showlegend": true,
         "textposition": "outside",
         "type": "bar",
         "x": [
          "Long Beach",
          "Montebello",
          "Koreatown",
          "Lake Los Angeles"
         ],
         "xaxis": "x",
         "y": [
          23.8,
          36,
          57,
          12.1
         ],
         "yaxis": "y"
        },
        {
         "alignmentgroup": "True",
         "hovertemplate": "variable=No_High_School_Diploma<br>name=%{x}<br>value=%{y}<extra></extra>",
         "legendgroup": "No_High_School_Diploma",
         "marker": {
          "color": "#ab63fa",
          "pattern": {
           "shape": ""
          }
         },
         "name": "No_High_School_Diploma",
         "offsetgroup": "No_High_School_Diploma",
         "orientation": "v",
         "showlegend": true,
         "textposition": "outside",
         "type": "bar",
         "x": [
          "Long Beach",
          "Montebello",
          "Koreatown",
          "Lake Los Angeles"
         ],
         "xaxis": "x",
         "y": [
          35.5,
          44.2,
          57.3,
          43.1
         ],
         "yaxis": "y"
        },
        {
         "alignmentgroup": "True",
         "hovertemplate": "variable=Female_Householder<br>name=%{x}<br>value=%{y}<extra></extra>",
         "legendgroup": "Female_Householder",
         "marker": {
          "color": "#FFA15A",
          "pattern": {
           "shape": ""
          }
         },
         "name": "Female_Householder",
         "offsetgroup": "Female_Householder",
         "orientation": "v",
         "showlegend": true,
         "textposition": "outside",
         "type": "bar",
         "x": [
          "Long Beach",
          "Montebello",
          "Koreatown",
          "Lake Los Angeles"
         ],
         "xaxis": "x",
         "y": [
          8,
          14.6,
          15.8,
          6.6
         ],
         "yaxis": "y"
        },
        {
         "alignmentgroup": "True",
         "hovertemplate": "variable=Disability<br>name=%{x}<br>value=%{y}<extra></extra>",
         "legendgroup": "Disability",
         "marker": {
          "color": "#19d3f3",
          "pattern": {
           "shape": ""
          }
         },
         "name": "Disability",
         "offsetgroup": "Disability",
         "orientation": "v",
         "showlegend": true,
         "textposition": "outside",
         "type": "bar",
         "x": [
          "Long Beach",
          "Montebello",
          "Koreatown",
          "Lake Los Angeles"
         ],
         "xaxis": "x",
         "y": [
          15.6,
          18.1,
          10.1,
          21.1
         ],
         "yaxis": "y"
        },
        {
         "alignmentgroup": "True",
         "hovertemplate": "variable=No_Health_Insurance<br>name=%{x}<br>value=%{y}<extra></extra>",
         "legendgroup": "No_Health_Insurance",
         "marker": {
          "color": "#FF6692",
          "pattern": {
           "shape": ""
          }
         },
         "name": "No_Health_Insurance",
         "offsetgroup": "No_Health_Insurance",
         "orientation": "v",
         "showlegend": true,
         "textposition": "outside",
         "type": "bar",
         "x": [
          "Long Beach",
          "Montebello",
          "Koreatown",
          "Lake Los Angeles"
         ],
         "xaxis": "x",
         "y": [
          14.9,
          14.5,
          32.6,
          9.9
         ],
         "yaxis": "y"
        },
        {
         "alignmentgroup": "True",
         "hovertemplate": "variable=Living_in_Group_Quarters<br>name=%{x}<br>value=%{y}<extra></extra>",
         "legendgroup": "Living_in_Group_Quarters",
         "marker": {
          "color": "#B6E880",
          "pattern": {
           "shape": ""
          }
         },
         "name": "Living_in_Group_Quarters",
         "offsetgroup": "Living_in_Group_Quarters",
         "orientation": "v",
         "showlegend": true,
         "textposition": "outside",
         "type": "bar",
         "x": [
          "Long Beach",
          "Montebello",
          "Koreatown",
          "Lake Los Angeles"
         ],
         "xaxis": "x",
         "y": [
          0.6,
          0,
          0,
          0
         ],
         "yaxis": "y"
        },
        {
         "alignmentgroup": "True",
         "hovertemplate": "variable=Mobile_Homes<br>name=%{x}<br>value=%{y}<extra></extra>",
         "legendgroup": "Mobile_Homes",
         "marker": {
          "color": "#FF97FF",
          "pattern": {
           "shape": ""
          }
         },
         "name": "Mobile_Homes",
         "offsetgroup": "Mobile_Homes",
         "orientation": "v",
         "showlegend": true,
         "textposition": "outside",
         "type": "bar",
         "x": [
          "Long Beach",
          "Montebello",
          "Koreatown",
          "Lake Los Angeles"
         ],
         "xaxis": "x",
         "y": [
          0,
          0,
          1.3,
          19.1
         ],
         "yaxis": "y"
        },
        {
         "alignmentgroup": "True",
         "hovertemplate": "variable=Rent_Burden<br>name=%{x}<br>value=%{y}<extra></extra>",
         "legendgroup": "Rent_Burden",
         "marker": {
          "color": "#FECB52",
          "pattern": {
           "shape": ""
          }
         },
         "name": "Rent_Burden",
         "offsetgroup": "Rent_Burden",
         "orientation": "v",
         "showlegend": true,
         "textposition": "outside",
         "type": "bar",
         "x": [
          "Long Beach",
          "Montebello",
          "Koreatown",
          "Lake Los Angeles"
         ],
         "xaxis": "x",
         "y": [
          57.1,
          71.1,
          59.5,
          55.3
         ],
         "yaxis": "y"
        },
        {
         "alignmentgroup": "True",
         "hovertemplate": "variable=Renters<br>name=%{x}<br>value=%{y}<extra></extra>",
         "legendgroup": "Renters",
         "marker": {
          "color": "#636efa",
          "pattern": {
           "shape": ""
          }
         },
         "name": "Renters",
         "offsetgroup": "Renters",
         "orientation": "v",
         "showlegend": true,
         "textposition": "outside",
         "type": "bar",
         "x": [
          "Long Beach",
          "Montebello",
          "Koreatown",
          "Lake Los Angeles"
         ],
         "xaxis": "x",
         "y": [
          88.7,
          72.1,
          100,
          36.7
         ],
         "yaxis": "y"
        },
        {
         "alignmentgroup": "True",
         "hovertemplate": "variable=Poverty<br>name=%{x}<br>value=%{y}<extra></extra>",
         "legendgroup": "Poverty",
         "marker": {
          "color": "#EF553B",
          "pattern": {
           "shape": ""
          }
         },
         "name": "Poverty",
         "offsetgroup": "Poverty",
         "orientation": "v",
         "showlegend": true,
         "textposition": "outside",
         "type": "bar",
         "x": [
          "Long Beach",
          "Montebello",
          "Koreatown",
          "Lake Los Angeles"
         ],
         "xaxis": "x",
         "y": [
          36.4,
          23.5,
          50.1,
          32.9
         ],
         "yaxis": "y"
        },
        {
         "alignmentgroup": "True",
         "hovertemplate": "variable=Households_Without_Vehicle_Acce<br>name=%{x}<br>value=%{y}<extra></extra>",
         "legendgroup": "Households_Without_Vehicle_Acce",
         "marker": {
          "color": "#00cc96",
          "pattern": {
           "shape": ""
          }
         },
         "name": "Households_Without_Vehicle_Acce",
         "offsetgroup": "Households_Without_Vehicle_Acce",
         "orientation": "v",
         "showlegend": true,
         "textposition": "outside",
         "type": "bar",
         "x": [
          "Long Beach",
          "Montebello",
          "Koreatown",
          "Lake Los Angeles"
         ],
         "xaxis": "x",
         "y": [
          36.9,
          14.6,
          46.4,
          16.8
         ],
         "yaxis": "y"
        },
        {
         "alignmentgroup": "True",
         "hovertemplate": "variable=Transit_Access<br>name=%{x}<br>value=%{y}<extra></extra>",
         "legendgroup": "Transit_Access",
         "marker": {
          "color": "#ab63fa",
          "pattern": {
           "shape": ""
          }
         },
         "name": "Transit_Access",
         "offsetgroup": "Transit_Access",
         "orientation": "v",
         "showlegend": true,
         "textposition": "outside",
         "type": "bar",
         "x": [
          "Long Beach",
          "Montebello",
          "Koreatown",
          "Lake Los Angeles"
         ],
         "xaxis": "x",
         "y": [
          100,
          100,
          100,
          0
         ],
         "yaxis": "y"
        },
        {
         "alignmentgroup": "True",
         "hovertemplate": "variable=Outdoor_Workers<br>name=%{x}<br>value=%{y}<extra></extra>",
         "legendgroup": "Outdoor_Workers",
         "marker": {
          "color": "#FFA15A",
          "pattern": {
           "shape": ""
          }
         },
         "name": "Outdoor_Workers",
         "offsetgroup": "Outdoor_Workers",
         "orientation": "v",
         "showlegend": true,
         "textposition": "outside",
         "type": "bar",
         "x": [
          "Long Beach",
          "Montebello",
          "Koreatown",
          "Lake Los Angeles"
         ],
         "xaxis": "x",
         "y": [
          7.1,
          8.8,
          19.5,
          18.5
         ],
         "yaxis": "y"
        },
        {
         "alignmentgroup": "True",
         "hovertemplate": "variable=Unemployed<br>name=%{x}<br>value=%{y}<extra></extra>",
         "legendgroup": "Unemployed",
         "marker": {
          "color": "#19d3f3",
          "pattern": {
           "shape": ""
          }
         },
         "name": "Unemployed",
         "offsetgroup": "Unemployed",
         "orientation": "v",
         "showlegend": true,
         "textposition": "outside",
         "type": "bar",
         "x": [
          "Long Beach",
          "Montebello",
          "Koreatown",
          "Lake Los Angeles"
         ],
         "xaxis": "x",
         "y": [
          6.6,
          3.2,
          6.9,
          5.2
         ],
         "yaxis": "y"
        },
        {
         "alignmentgroup": "True",
         "hovertemplate": "variable=Foreign_Born<br>name=%{x}<br>value=%{y}<extra></extra>",
         "legendgroup": "Foreign_Born",
         "marker": {
          "color": "#FF6692",
          "pattern": {
           "shape": ""
          }
         },
         "name": "Foreign_Born",
         "offsetgroup": "Foreign_Born",
         "orientation": "v",
         "showlegend": true,
         "textposition": "outside",
         "type": "bar",
         "x": [
          "Long Beach",
          "Montebello",
          "Koreatown",
          "Lake Los Angeles"
         ],
         "xaxis": "x",
         "y": [
          39.1,
          40.2,
          71.7,
          24
         ],
         "yaxis": "y"
        },
        {
         "alignmentgroup": "True",
         "hovertemplate": "variable=No_Internet_Subscription<br>name=%{x}<br>value=%{y}<extra></extra>",
         "legendgroup": "No_Internet_Subscription",
         "marker": {
          "color": "#B6E880",
          "pattern": {
           "shape": ""
          }
         },
         "name": "No_Internet_Subscription",
         "offsetgroup": "No_Internet_Subscription",
         "orientation": "v",
         "showlegend": true,
         "textposition": "outside",
         "type": "bar",
         "x": [
          "Long Beach",
          "Montebello",
          "Koreatown",
          "Lake Los Angeles"
         ],
         "xaxis": "x",
         "y": [
          35.9,
          46.5,
          47.2,
          44.5
         ],
         "yaxis": "y"
        },
        {
         "alignmentgroup": "True",
         "hovertemplate": "variable=Hispanic_Latinx<br>name=%{x}<br>value=%{y}<extra></extra>",
         "legendgroup": "Hispanic_Latinx",
         "marker": {
          "color": "#FF97FF",
          "pattern": {
           "shape": ""
          }
         },
         "name": "Hispanic_Latinx",
         "offsetgroup": "Hispanic_Latinx",
         "orientation": "v",
         "showlegend": true,
         "textposition": "outside",
         "type": "bar",
         "x": [
          "Long Beach",
          "Montebello",
          "Koreatown",
          "Lake Los Angeles"
         ],
         "xaxis": "x",
         "y": [
          61.3,
          93.5,
          62.7,
          48
         ],
         "yaxis": "y"
        },
        {
         "alignmentgroup": "True",
         "hovertemplate": "variable=White<br>name=%{x}<br>value=%{y}<extra></extra>",
         "legendgroup": "White",
         "marker": {
          "color": "#FECB52",
          "pattern": {
           "shape": ""
          }
         },
         "name": "White",
         "offsetgroup": "White",
         "orientation": "v",
         "showlegend": true,
         "textposition": "outside",
         "type": "bar",
         "x": [
          "Long Beach",
          "Montebello",
          "Koreatown",
          "Lake Los Angeles"
         ],
         "xaxis": "x",
         "y": [
          17.1,
          4.5,
          5.4,
          44.7
         ],
         "yaxis": "y"
        },
        {
         "alignmentgroup": "True",
         "hovertemplate": "variable=Black<br>name=%{x}<br>value=%{y}<extra></extra>",
         "legendgroup": "Black",
         "marker": {
          "color": "#636efa",
          "pattern": {
           "shape": ""
          }
         },
         "name": "Black",
         "offsetgroup": "Black",
         "orientation": "v",
         "showlegend": true,
         "textposition": "outside",
         "type": "bar",
         "x": [
          "Long Beach",
          "Montebello",
          "Koreatown",
          "Lake Los Angeles"
         ],
         "xaxis": "x",
         "y": [
          11.2,
          1.3,
          4.1,
          1.5
         ],
         "yaxis": "y"
        },
        {
         "alignmentgroup": "True",
         "hovertemplate": "variable=Native_Tribal<br>name=%{x}<br>value=%{y}<extra></extra>",
         "legendgroup": "Native_Tribal",
         "marker": {
          "color": "#EF553B",
          "pattern": {
           "shape": ""
          }
         },
         "name": "Native_Tribal",
         "offsetgroup": "Native_Tribal",
         "orientation": "v",
         "showlegend": true,
         "textposition": "outside",
         "type": "bar",
         "x": [
          "Long Beach",
          "Montebello",
          "Koreatown",
          "Lake Los Angeles"
         ],
         "xaxis": "x",
         "y": [
          0.4,
          0,
          0,
          0
         ],
         "yaxis": "y"
        },
        {
         "alignmentgroup": "True",
         "hovertemplate": "variable=Asian<br>name=%{x}<br>value=%{y}<extra></extra>",
         "legendgroup": "Asian",
         "marker": {
          "color": "#00cc96",
          "pattern": {
           "shape": ""
          }
         },
         "name": "Asian",
         "offsetgroup": "Asian",
         "orientation": "v",
         "showlegend": true,
         "textposition": "outside",
         "type": "bar",
         "x": [
          "Long Beach",
          "Montebello",
          "Koreatown",
          "Lake Los Angeles"
         ],
         "xaxis": "x",
         "y": [
          8.2,
          0.7,
          24.8,
          2.2
         ],
         "yaxis": "y"
        },
        {
         "alignmentgroup": "True",
         "hovertemplate": "variable=NHOPI<br>name=%{x}<br>value=%{y}<extra></extra>",
         "legendgroup": "NHOPI",
         "marker": {
          "color": "#ab63fa",
          "pattern": {
           "shape": ""
          }
         },
         "name": "NHOPI",
         "offsetgroup": "NHOPI",
         "orientation": "v",
         "showlegend": true,
         "textposition": "outside",
         "type": "bar",
         "x": [
          "Long Beach",
          "Montebello",
          "Koreatown",
          "Lake Los Angeles"
         ],
         "xaxis": "x",
         "y": [
          0,
          0,
          0.8,
          0
         ],
         "yaxis": "y"
        },
        {
         "alignmentgroup": "True",
         "hovertemplate": "variable=Other_Race<br>name=%{x}<br>value=%{y}<extra></extra>",
         "legendgroup": "Other_Race",
         "marker": {
          "color": "#FFA15A",
          "pattern": {
           "shape": ""
          }
         },
         "name": "Other_Race",
         "offsetgroup": "Other_Race",
         "orientation": "v",
         "showlegend": true,
         "textposition": "outside",
         "type": "bar",
         "x": [
          "Long Beach",
          "Montebello",
          "Koreatown",
          "Lake Los Angeles"
         ],
         "xaxis": "x",
         "y": [
          0,
          0,
          0.6,
          0.7
         ],
         "yaxis": "y"
        }
       ],
       "layout": {
        "autosize": true,
        "barmode": "relative",
        "legend": {
         "title": {
          "text": "SVI Indicators"
         },
         "tracegroupgap": 0
        },
        "margin": {
         "t": 60
        },
        "template": {
         "data": {
          "bar": [
           {
            "error_x": {
             "color": "#2a3f5f"
            },
            "error_y": {
             "color": "#2a3f5f"
            },
            "marker": {
             "line": {
              "color": "#E5ECF6",
              "width": 0.5
             },
             "pattern": {
              "fillmode": "overlay",
              "size": 10,
              "solidity": 0.2
             }
            },
            "type": "bar"
           }
          ],
          "barpolar": [
           {
            "marker": {
             "line": {
              "color": "#E5ECF6",
              "width": 0.5
             },
             "pattern": {
              "fillmode": "overlay",
              "size": 10,
              "solidity": 0.2
             }
            },
            "type": "barpolar"
           }
          ],
          "carpet": [
           {
            "aaxis": {
             "endlinecolor": "#2a3f5f",
             "gridcolor": "white",
             "linecolor": "white",
             "minorgridcolor": "white",
             "startlinecolor": "#2a3f5f"
            },
            "baxis": {
             "endlinecolor": "#2a3f5f",
             "gridcolor": "white",
             "linecolor": "white",
             "minorgridcolor": "white",
             "startlinecolor": "#2a3f5f"
            },
            "type": "carpet"
           }
          ],
          "choropleth": [
           {
            "colorbar": {
             "outlinewidth": 0,
             "ticks": ""
            },
            "type": "choropleth"
           }
          ],
          "contour": [
           {
            "colorbar": {
             "outlinewidth": 0,
             "ticks": ""
            },
            "colorscale": [
             [
              0,
              "#0d0887"
             ],
             [
              0.1111111111111111,
              "#46039f"
             ],
             [
              0.2222222222222222,
              "#7201a8"
             ],
             [
              0.3333333333333333,
              "#9c179e"
             ],
             [
              0.4444444444444444,
              "#bd3786"
             ],
             [
              0.5555555555555556,
              "#d8576b"
             ],
             [
              0.6666666666666666,
              "#ed7953"
             ],
             [
              0.7777777777777778,
              "#fb9f3a"
             ],
             [
              0.8888888888888888,
              "#fdca26"
             ],
             [
              1,
              "#f0f921"
             ]
            ],
            "type": "contour"
           }
          ],
          "contourcarpet": [
           {
            "colorbar": {
             "outlinewidth": 0,
             "ticks": ""
            },
            "type": "contourcarpet"
           }
          ],
          "heatmap": [
           {
            "colorbar": {
             "outlinewidth": 0,
             "ticks": ""
            },
            "colorscale": [
             [
              0,
              "#0d0887"
             ],
             [
              0.1111111111111111,
              "#46039f"
             ],
             [
              0.2222222222222222,
              "#7201a8"
             ],
             [
              0.3333333333333333,
              "#9c179e"
             ],
             [
              0.4444444444444444,
              "#bd3786"
             ],
             [
              0.5555555555555556,
              "#d8576b"
             ],
             [
              0.6666666666666666,
              "#ed7953"
             ],
             [
              0.7777777777777778,
              "#fb9f3a"
             ],
             [
              0.8888888888888888,
              "#fdca26"
             ],
             [
              1,
              "#f0f921"
             ]
            ],
            "type": "heatmap"
           }
          ],
          "heatmapgl": [
           {
            "colorbar": {
             "outlinewidth": 0,
             "ticks": ""
            },
            "colorscale": [
             [
              0,
              "#0d0887"
             ],
             [
              0.1111111111111111,
              "#46039f"
             ],
             [
              0.2222222222222222,
              "#7201a8"
             ],
             [
              0.3333333333333333,
              "#9c179e"
             ],
             [
              0.4444444444444444,
              "#bd3786"
             ],
             [
              0.5555555555555556,
              "#d8576b"
             ],
             [
              0.6666666666666666,
              "#ed7953"
             ],
             [
              0.7777777777777778,
              "#fb9f3a"
             ],
             [
              0.8888888888888888,
              "#fdca26"
             ],
             [
              1,
              "#f0f921"
             ]
            ],
            "type": "heatmapgl"
           }
          ],
          "histogram": [
           {
            "marker": {
             "pattern": {
              "fillmode": "overlay",
              "size": 10,
              "solidity": 0.2
             }
            },
            "type": "histogram"
           }
          ],
          "histogram2d": [
           {
            "colorbar": {
             "outlinewidth": 0,
             "ticks": ""
            },
            "colorscale": [
             [
              0,
              "#0d0887"
             ],
             [
              0.1111111111111111,
              "#46039f"
             ],
             [
              0.2222222222222222,
              "#7201a8"
             ],
             [
              0.3333333333333333,
              "#9c179e"
             ],
             [
              0.4444444444444444,
              "#bd3786"
             ],
             [
              0.5555555555555556,
              "#d8576b"
             ],
             [
              0.6666666666666666,
              "#ed7953"
             ],
             [
              0.7777777777777778,
              "#fb9f3a"
             ],
             [
              0.8888888888888888,
              "#fdca26"
             ],
             [
              1,
              "#f0f921"
             ]
            ],
            "type": "histogram2d"
           }
          ],
          "histogram2dcontour": [
           {
            "colorbar": {
             "outlinewidth": 0,
             "ticks": ""
            },
            "colorscale": [
             [
              0,
              "#0d0887"
             ],
             [
              0.1111111111111111,
              "#46039f"
             ],
             [
              0.2222222222222222,
              "#7201a8"
             ],
             [
              0.3333333333333333,
              "#9c179e"
             ],
             [
              0.4444444444444444,
              "#bd3786"
             ],
             [
              0.5555555555555556,
              "#d8576b"
             ],
             [
              0.6666666666666666,
              "#ed7953"
             ],
             [
              0.7777777777777778,
              "#fb9f3a"
             ],
             [
              0.8888888888888888,
              "#fdca26"
             ],
             [
              1,
              "#f0f921"
             ]
            ],
            "type": "histogram2dcontour"
           }
          ],
          "mesh3d": [
           {
            "colorbar": {
             "outlinewidth": 0,
             "ticks": ""
            },
            "type": "mesh3d"
           }
          ],
          "parcoords": [
           {
            "line": {
             "colorbar": {
              "outlinewidth": 0,
              "ticks": ""
             }
            },
            "type": "parcoords"
           }
          ],
          "pie": [
           {
            "automargin": true,
            "type": "pie"
           }
          ],
          "scatter": [
           {
            "fillpattern": {
             "fillmode": "overlay",
             "size": 10,
             "solidity": 0.2
            },
            "type": "scatter"
           }
          ],
          "scatter3d": [
           {
            "line": {
             "colorbar": {
              "outlinewidth": 0,
              "ticks": ""
             }
            },
            "marker": {
             "colorbar": {
              "outlinewidth": 0,
              "ticks": ""
             }
            },
            "type": "scatter3d"
           }
          ],
          "scattercarpet": [
           {
            "marker": {
             "colorbar": {
              "outlinewidth": 0,
              "ticks": ""
             }
            },
            "type": "scattercarpet"
           }
          ],
          "scattergeo": [
           {
            "marker": {
             "colorbar": {
              "outlinewidth": 0,
              "ticks": ""
             }
            },
            "type": "scattergeo"
           }
          ],
          "scattergl": [
           {
            "marker": {
             "colorbar": {
              "outlinewidth": 0,
              "ticks": ""
             }
            },
            "type": "scattergl"
           }
          ],
          "scattermapbox": [
           {
            "marker": {
             "colorbar": {
              "outlinewidth": 0,
              "ticks": ""
             }
            },
            "type": "scattermapbox"
           }
          ],
          "scatterpolar": [
           {
            "marker": {
             "colorbar": {
              "outlinewidth": 0,
              "ticks": ""
             }
            },
            "type": "scatterpolar"
           }
          ],
          "scatterpolargl": [
           {
            "marker": {
             "colorbar": {
              "outlinewidth": 0,
              "ticks": ""
             }
            },
            "type": "scatterpolargl"
           }
          ],
          "scatterternary": [
           {
            "marker": {
             "colorbar": {
              "outlinewidth": 0,
              "ticks": ""
             }
            },
            "type": "scatterternary"
           }
          ],
          "surface": [
           {
            "colorbar": {
             "outlinewidth": 0,
             "ticks": ""
            },
            "colorscale": [
             [
              0,
              "#0d0887"
             ],
             [
              0.1111111111111111,
              "#46039f"
             ],
             [
              0.2222222222222222,
              "#7201a8"
             ],
             [
              0.3333333333333333,
              "#9c179e"
             ],
             [
              0.4444444444444444,
              "#bd3786"
             ],
             [
              0.5555555555555556,
              "#d8576b"
             ],
             [
              0.6666666666666666,
              "#ed7953"
             ],
             [
              0.7777777777777778,
              "#fb9f3a"
             ],
             [
              0.8888888888888888,
              "#fdca26"
             ],
             [
              1,
              "#f0f921"
             ]
            ],
            "type": "surface"
           }
          ],
          "table": [
           {
            "cells": {
             "fill": {
              "color": "#EBF0F8"
             },
             "line": {
              "color": "white"
             }
            },
            "header": {
             "fill": {
              "color": "#C8D4E3"
             },
             "line": {
              "color": "white"
             }
            },
            "type": "table"
           }
          ]
         },
         "layout": {
          "annotationdefaults": {
           "arrowcolor": "#2a3f5f",
           "arrowhead": 0,
           "arrowwidth": 1
          },
          "autotypenumbers": "strict",
          "coloraxis": {
           "colorbar": {
            "outlinewidth": 0,
            "ticks": ""
           }
          },
          "colorscale": {
           "diverging": [
            [
             0,
             "#8e0152"
            ],
            [
             0.1,
             "#c51b7d"
            ],
            [
             0.2,
             "#de77ae"
            ],
            [
             0.3,
             "#f1b6da"
            ],
            [
             0.4,
             "#fde0ef"
            ],
            [
             0.5,
             "#f7f7f7"
            ],
            [
             0.6,
             "#e6f5d0"
            ],
            [
             0.7,
             "#b8e186"
            ],
            [
             0.8,
             "#7fbc41"
            ],
            [
             0.9,
             "#4d9221"
            ],
            [
             1,
             "#276419"
            ]
           ],
           "sequential": [
            [
             0,
             "#0d0887"
            ],
            [
             0.1111111111111111,
             "#46039f"
            ],
            [
             0.2222222222222222,
             "#7201a8"
            ],
            [
             0.3333333333333333,
             "#9c179e"
            ],
            [
             0.4444444444444444,
             "#bd3786"
            ],
            [
             0.5555555555555556,
             "#d8576b"
            ],
            [
             0.6666666666666666,
             "#ed7953"
            ],
            [
             0.7777777777777778,
             "#fb9f3a"
            ],
            [
             0.8888888888888888,
             "#fdca26"
            ],
            [
             1,
             "#f0f921"
            ]
           ],
           "sequentialminus": [
            [
             0,
             "#0d0887"
            ],
            [
             0.1111111111111111,
             "#46039f"
            ],
            [
             0.2222222222222222,
             "#7201a8"
            ],
            [
             0.3333333333333333,
             "#9c179e"
            ],
            [
             0.4444444444444444,
             "#bd3786"
            ],
            [
             0.5555555555555556,
             "#d8576b"
            ],
            [
             0.6666666666666666,
             "#ed7953"
            ],
            [
             0.7777777777777778,
             "#fb9f3a"
            ],
            [
             0.8888888888888888,
             "#fdca26"
            ],
            [
             1,
             "#f0f921"
            ]
           ]
          },
          "colorway": [
           "#636efa",
           "#EF553B",
           "#00cc96",
           "#ab63fa",
           "#FFA15A",
           "#19d3f3",
           "#FF6692",
           "#B6E880",
           "#FF97FF",
           "#FECB52"
          ],
          "font": {
           "color": "#2a3f5f"
          },
          "geo": {
           "bgcolor": "white",
           "lakecolor": "white",
           "landcolor": "#E5ECF6",
           "showlakes": true,
           "showland": true,
           "subunitcolor": "white"
          },
          "hoverlabel": {
           "align": "left"
          },
          "hovermode": "closest",
          "mapbox": {
           "style": "light"
          },
          "paper_bgcolor": "white",
          "plot_bgcolor": "#E5ECF6",
          "polar": {
           "angularaxis": {
            "gridcolor": "white",
            "linecolor": "white",
            "ticks": ""
           },
           "bgcolor": "#E5ECF6",
           "radialaxis": {
            "gridcolor": "white",
            "linecolor": "white",
            "ticks": ""
           }
          },
          "scene": {
           "xaxis": {
            "backgroundcolor": "#E5ECF6",
            "gridcolor": "white",
            "gridwidth": 2,
            "linecolor": "white",
            "showbackground": true,
            "ticks": "",
            "zerolinecolor": "white"
           },
           "yaxis": {
            "backgroundcolor": "#E5ECF6",
            "gridcolor": "white",
            "gridwidth": 2,
            "linecolor": "white",
            "showbackground": true,
            "ticks": "",
            "zerolinecolor": "white"
           },
           "zaxis": {
            "backgroundcolor": "#E5ECF6",
            "gridcolor": "white",
            "gridwidth": 2,
            "linecolor": "white",
            "showbackground": true,
            "ticks": "",
            "zerolinecolor": "white"
           }
          },
          "shapedefaults": {
           "line": {
            "color": "#2a3f5f"
           }
          },
          "ternary": {
           "aaxis": {
            "gridcolor": "white",
            "linecolor": "white",
            "ticks": ""
           },
           "baxis": {
            "gridcolor": "white",
            "linecolor": "white",
            "ticks": ""
           },
           "bgcolor": "#E5ECF6",
           "caxis": {
            "gridcolor": "white",
            "linecolor": "white",
            "ticks": ""
           }
          },
          "title": {
           "x": 0.05
          },
          "xaxis": {
           "automargin": true,
           "gridcolor": "white",
           "linecolor": "white",
           "ticks": "",
           "title": {
            "standoff": 15
           },
           "zerolinecolor": "white",
           "zerolinewidth": 2
          },
          "yaxis": {
           "automargin": true,
           "gridcolor": "white",
           "linecolor": "white",
           "ticks": "",
           "title": {
            "standoff": 15
           },
           "zerolinecolor": "white",
           "zerolinewidth": 2
          }
         }
        },
        "title": {
         "text": "Breakdown of SVI Indicators in Highest Risk Census Tracts/Neighborhoods"
        },
        "xaxis": {
         "anchor": "y",
         "autorange": true,
         "domain": [
          0,
          1
         ],
         "range": [
          -0.5,
          3.5
         ],
         "title": {
          "text": "Highest SVI Census Tracts (by Neighborhood)"
         },
         "type": "category"
        },
        "yaxis": {
         "anchor": "x",
         "autorange": true,
         "domain": [
          0,
          1
         ],
         "range": [
          0,
          857.6842105263158
         ],
         "title": {
          "text": "Population Percent (%)"
         },
         "type": "linear"
        }
       }
      },
      "image/png": "[encoded data removed]",
      "text/html": [
       "<div>                            <div id=\"27422aa6-1c89-49f6-ab0c-9e928286b67b\" class=\"plotly-graph-div\" style=\"height:525px; width:100%;\"></div>            <script type=\"text/javascript\">                require([\"plotly\"], function(Plotly) {                    window.PLOTLYENV=window.PLOTLYENV || {};                                    if (document.getElementById(\"27422aa6-1c89-49f6-ab0c-9e928286b67b\")) {                    Plotly.newPlot(                        \"27422aa6-1c89-49f6-ab0c-9e928286b67b\",                        [{\"alignmentgroup\":\"True\",\"hovertemplate\":\"variable=Children<br>name=%{x}<br>value=%{y}<extra></extra>\",\"legendgroup\":\"Children\",\"marker\":{\"color\":\"#636efa\",\"pattern\":{\"shape\":\"\"}},\"name\":\"Children\",\"offsetgroup\":\"Children\",\"orientation\":\"v\",\"showlegend\":true,\"textposition\":\"outside\",\"x\":[\"Long Beach\",\"Montebello\",\"Koreatown\",\"Lake Los Angeles\"],\"xaxis\":\"x\",\"y\":[26.7,26.8,19.8,19.3],\"yaxis\":\"y\",\"type\":\"bar\"},{\"alignmentgroup\":\"True\",\"hovertemplate\":\"variable=Older_Adults_Living_Alone<br>name=%{x}<br>value=%{y}<extra></extra>\",\"legendgroup\":\"Older_Adults_Living_Alone\",\"marker\":{\"color\":\"#EF553B\",\"pattern\":{\"shape\":\"\"}},\"name\":\"Older_Adults_Living_Alone\",\"offsetgroup\":\"Older_Adults_Living_Alone\",\"orientation\":\"v\",\"showlegend\":true,\"textposition\":\"outside\",\"x\":[\"Long Beach\",\"Montebello\",\"Koreatown\",\"Lake Los Angeles\"],\"xaxis\":\"x\",\"y\":[30.3,20.4,21.2,28.5],\"yaxis\":\"y\",\"type\":\"bar\"},{\"alignmentgroup\":\"True\",\"hovertemplate\":\"variable=Limited_English<br>name=%{x}<br>value=%{y}<extra></extra>\",\"legendgroup\":\"Limited_English\",\"marker\":{\"color\":\"#00cc96\",\"pattern\":{\"shape\":\"\"}},\"name\":\"Limited_English\",\"offsetgroup\":\"Limited_English\",\"orientation\":\"v\",\"showlegend\":true,\"textposition\":\"outside\",\"x\":[\"Long Beach\",\"Montebello\",\"Koreatown\",\"Lake Los Angeles\"],\"xaxis\":\"x\",\"y\":[23.8,36.0,57.0,12.1],\"yaxis\":\"y\",\"type\":\"bar\"},{\"alignmentgroup\":\"True\",\"hovertemplate\":\"variable=No_High_School_Diploma<br>name=%{x}<br>value=%{y}<extra></extra>\",\"legendgroup\":\"No_High_School_Diploma\",\"marker\":{\"color\":\"#ab63fa\",\"pattern\":{\"shape\":\"\"}},\"name\":\"No_High_School_Diploma\",\"offsetgroup\":\"No_High_School_Diploma\",\"orientation\":\"v\",\"showlegend\":true,\"textposition\":\"outside\",\"x\":[\"Long Beach\",\"Montebello\",\"Koreatown\",\"Lake Los Angeles\"],\"xaxis\":\"x\",\"y\":[35.5,44.2,57.3,43.1],\"yaxis\":\"y\",\"type\":\"bar\"},{\"alignmentgroup\":\"True\",\"hovertemplate\":\"variable=Female_Householder<br>name=%{x}<br>value=%{y}<extra></extra>\",\"legendgroup\":\"Female_Householder\",\"marker\":{\"color\":\"#FFA15A\",\"pattern\":{\"shape\":\"\"}},\"name\":\"Female_Householder\",\"offsetgroup\":\"Female_Householder\",\"orientation\":\"v\",\"showlegend\":true,\"textposition\":\"outside\",\"x\":[\"Long Beach\",\"Montebello\",\"Koreatown\",\"Lake Los Angeles\"],\"xaxis\":\"x\",\"y\":[8.0,14.6,15.8,6.6],\"yaxis\":\"y\",\"type\":\"bar\"},{\"alignmentgroup\":\"True\",\"hovertemplate\":\"variable=Disability<br>name=%{x}<br>value=%{y}<extra></extra>\",\"legendgroup\":\"Disability\",\"marker\":{\"color\":\"#19d3f3\",\"pattern\":{\"shape\":\"\"}},\"name\":\"Disability\",\"offsetgroup\":\"Disability\",\"orientation\":\"v\",\"showlegend\":true,\"textposition\":\"outside\",\"x\":[\"Long Beach\",\"Montebello\",\"Koreatown\",\"Lake Los Angeles\"],\"xaxis\":\"x\",\"y\":[15.6,18.1,10.1,21.1],\"yaxis\":\"y\",\"type\":\"bar\"},{\"alignmentgroup\":\"True\",\"hovertemplate\":\"variable=No_Health_Insurance<br>name=%{x}<br>value=%{y}<extra></extra>\",\"legendgroup\":\"No_Health_Insurance\",\"marker\":{\"color\":\"#FF6692\",\"pattern\":{\"shape\":\"\"}},\"name\":\"No_Health_Insurance\",\"offsetgroup\":\"No_Health_Insurance\",\"orientation\":\"v\",\"showlegend\":true,\"textposition\":\"outside\",\"x\":[\"Long Beach\",\"Montebello\",\"Koreatown\",\"Lake Los Angeles\"],\"xaxis\":\"x\",\"y\":[14.9,14.5,32.6,9.9],\"yaxis\":\"y\",\"type\":\"bar\"},{\"alignmentgroup\":\"True\",\"hovertemplate\":\"variable=Living_in_Group_Quarters<br>name=%{x}<br>value=%{y}<extra></extra>\",\"legendgroup\":\"Living_in_Group_Quarters\",\"marker\":{\"color\":\"#B6E880\",\"pattern\":{\"shape\":\"\"}},\"name\":\"Living_in_Group_Quarters\",\"offsetgroup\":\"Living_in_Group_Quarters\",\"orientation\":\"v\",\"showlegend\":true,\"textposition\":\"outside\",\"x\":[\"Long Beach\",\"Montebello\",\"Koreatown\",\"Lake Los Angeles\"],\"xaxis\":\"x\",\"y\":[0.6,0.0,0.0,0.0],\"yaxis\":\"y\",\"type\":\"bar\"},{\"alignmentgroup\":\"True\",\"hovertemplate\":\"variable=Mobile_Homes<br>name=%{x}<br>value=%{y}<extra></extra>\",\"legendgroup\":\"Mobile_Homes\",\"marker\":{\"color\":\"#FF97FF\",\"pattern\":{\"shape\":\"\"}},\"name\":\"Mobile_Homes\",\"offsetgroup\":\"Mobile_Homes\",\"orientation\":\"v\",\"showlegend\":true,\"textposition\":\"outside\",\"x\":[\"Long Beach\",\"Montebello\",\"Koreatown\",\"Lake Los Angeles\"],\"xaxis\":\"x\",\"y\":[0.0,0.0,1.3,19.1],\"yaxis\":\"y\",\"type\":\"bar\"},{\"alignmentgroup\":\"True\",\"hovertemplate\":\"variable=Rent_Burden<br>name=%{x}<br>value=%{y}<extra></extra>\",\"legendgroup\":\"Rent_Burden\",\"marker\":{\"color\":\"#FECB52\",\"pattern\":{\"shape\":\"\"}},\"name\":\"Rent_Burden\",\"offsetgroup\":\"Rent_Burden\",\"orientation\":\"v\",\"showlegend\":true,\"textposition\":\"outside\",\"x\":[\"Long Beach\",\"Montebello\",\"Koreatown\",\"Lake Los Angeles\"],\"xaxis\":\"x\",\"y\":[57.1,71.1,59.5,55.3],\"yaxis\":\"y\",\"type\":\"bar\"},{\"alignmentgroup\":\"True\",\"hovertemplate\":\"variable=Renters<br>name=%{x}<br>value=%{y}<extra></extra>\",\"legendgroup\":\"Renters\",\"marker\":{\"color\":\"#636efa\",\"pattern\":{\"shape\":\"\"}},\"name\":\"Renters\",\"offsetgroup\":\"Renters\",\"orientation\":\"v\",\"showlegend\":true,\"textposition\":\"outside\",\"x\":[\"Long Beach\",\"Montebello\",\"Koreatown\",\"Lake Los Angeles\"],\"xaxis\":\"x\",\"y\":[88.7,72.1,100.0,36.7],\"yaxis\":\"y\",\"type\":\"bar\"},{\"alignmentgroup\":\"True\",\"hovertemplate\":\"variable=Poverty<br>name=%{x}<br>value=%{y}<extra></extra>\",\"legendgroup\":\"Poverty\",\"marker\":{\"color\":\"#EF553B\",\"pattern\":{\"shape\":\"\"}},\"name\":\"Poverty\",\"offsetgroup\":\"Poverty\",\"orientation\":\"v\",\"showlegend\":true,\"textposition\":\"outside\",\"x\":[\"Long Beach\",\"Montebello\",\"Koreatown\",\"Lake Los Angeles\"],\"xaxis\":\"x\",\"y\":[36.4,23.5,50.1,32.9],\"yaxis\":\"y\",\"type\":\"bar\"},{\"alignmentgroup\":\"True\",\"hovertemplate\":\"variable=Households_Without_Vehicle_Acce<br>name=%{x}<br>value=%{y}<extra></extra>\",\"legendgroup\":\"Households_Without_Vehicle_Acce\",\"marker\":{\"color\":\"#00cc96\",\"pattern\":{\"shape\":\"\"}},\"name\":\"Households_Without_Vehicle_Acce\",\"offsetgroup\":\"Households_Without_Vehicle_Acce\",\"orientation\":\"v\",\"showlegend\":true,\"textposition\":\"outside\",\"x\":[\"Long Beach\",\"Montebello\",\"Koreatown\",\"Lake Los Angeles\"],\"xaxis\":\"x\",\"y\":[36.9,14.6,46.4,16.8],\"yaxis\":\"y\",\"type\":\"bar\"},{\"alignmentgroup\":\"True\",\"hovertemplate\":\"variable=Transit_Access<br>name=%{x}<br>value=%{y}<extra></extra>\",\"legendgroup\":\"Transit_Access\",\"marker\":{\"color\":\"#ab63fa\",\"pattern\":{\"shape\":\"\"}},\"name\":\"Transit_Access\",\"offsetgroup\":\"Transit_Access\",\"orientation\":\"v\",\"showlegend\":true,\"textposition\":\"outside\",\"x\":[\"Long Beach\",\"Montebello\",\"Koreatown\",\"Lake Los Angeles\"],\"xaxis\":\"x\",\"y\":[100.0,100.0,100.0,0.0],\"yaxis\":\"y\",\"type\":\"bar\"},{\"alignmentgroup\":\"True\",\"hovertemplate\":\"variable=Outdoor_Workers<br>name=%{x}<br>value=%{y}<extra></extra>\",\"legendgroup\":\"Outdoor_Workers\",\"marker\":{\"color\":\"#FFA15A\",\"pattern\":{\"shape\":\"\"}},\"name\":\"Outdoor_Workers\",\"offsetgroup\":\"Outdoor_Workers\",\"orientation\":\"v\",\"showlegend\":true,\"textposition\":\"outside\",\"x\":[\"Long Beach\",\"Montebello\",\"Koreatown\",\"Lake Los Angeles\"],\"xaxis\":\"x\",\"y\":[7.1,8.8,19.5,18.5],\"yaxis\":\"y\",\"type\":\"bar\"},{\"alignmentgroup\":\"True\",\"hovertemplate\":\"variable=Unemployed<br>name=%{x}<br>value=%{y}<extra></extra>\",\"legendgroup\":\"Unemployed\",\"marker\":{\"color\":\"#19d3f3\",\"pattern\":{\"shape\":\"\"}},\"name\":\"Unemployed\",\"offsetgroup\":\"Unemployed\",\"orientation\":\"v\",\"showlegend\":true,\"textposition\":\"outside\",\"x\":[\"Long Beach\",\"Montebello\",\"Koreatown\",\"Lake Los Angeles\"],\"xaxis\":\"x\",\"y\":[6.6,3.2,6.9,5.2],\"yaxis\":\"y\",\"type\":\"bar\"},{\"alignmentgroup\":\"True\",\"hovertemplate\":\"variable=Foreign_Born<br>name=%{x}<br>value=%{y}<extra></extra>\",\"legendgroup\":\"Foreign_Born\",\"marker\":{\"color\":\"#FF6692\",\"pattern\":{\"shape\":\"\"}},\"name\":\"Foreign_Born\",\"offsetgroup\":\"Foreign_Born\",\"orientation\":\"v\",\"showlegend\":true,\"textposition\":\"outside\",\"x\":[\"Long Beach\",\"Montebello\",\"Koreatown\",\"Lake Los Angeles\"],\"xaxis\":\"x\",\"y\":[39.1,40.2,71.7,24.0],\"yaxis\":\"y\",\"type\":\"bar\"},{\"alignmentgroup\":\"True\",\"hovertemplate\":\"variable=No_Internet_Subscription<br>name=%{x}<br>value=%{y}<extra></extra>\",\"legendgroup\":\"No_Internet_Subscription\",\"marker\":{\"color\":\"#B6E880\",\"pattern\":{\"shape\":\"\"}},\"name\":\"No_Internet_Subscription\",\"offsetgroup\":\"No_Internet_Subscription\",\"orientation\":\"v\",\"showlegend\":true,\"textposition\":\"outside\",\"x\":[\"Long Beach\",\"Montebello\",\"Koreatown\",\"Lake Los Angeles\"],\"xaxis\":\"x\",\"y\":[35.9,46.5,47.2,44.5],\"yaxis\":\"y\",\"type\":\"bar\"},{\"alignmentgroup\":\"True\",\"hovertemplate\":\"variable=Hispanic_Latinx<br>name=%{x}<br>value=%{y}<extra></extra>\",\"legendgroup\":\"Hispanic_Latinx\",\"marker\":{\"color\":\"#FF97FF\",\"pattern\":{\"shape\":\"\"}},\"name\":\"Hispanic_Latinx\",\"offsetgroup\":\"Hispanic_Latinx\",\"orientation\":\"v\",\"showlegend\":true,\"textposition\":\"outside\",\"x\":[\"Long Beach\",\"Montebello\",\"Koreatown\",\"Lake Los Angeles\"],\"xaxis\":\"x\",\"y\":[61.3,93.5,62.7,48.0],\"yaxis\":\"y\",\"type\":\"bar\"},{\"alignmentgroup\":\"True\",\"hovertemplate\":\"variable=White<br>name=%{x}<br>value=%{y}<extra></extra>\",\"legendgroup\":\"White\",\"marker\":{\"color\":\"#FECB52\",\"pattern\":{\"shape\":\"\"}},\"name\":\"White\",\"offsetgroup\":\"White\",\"orientation\":\"v\",\"showlegend\":true,\"textposition\":\"outside\",\"x\":[\"Long Beach\",\"Montebello\",\"Koreatown\",\"Lake Los Angeles\"],\"xaxis\":\"x\",\"y\":[17.1,4.5,5.4,44.7],\"yaxis\":\"y\",\"type\":\"bar\"},{\"alignmentgroup\":\"True\",\"hovertemplate\":\"variable=Black<br>name=%{x}<br>value=%{y}<extra></extra>\",\"legendgroup\":\"Black\",\"marker\":{\"color\":\"#636efa\",\"pattern\":{\"shape\":\"\"}},\"name\":\"Black\",\"offsetgroup\":\"Black\",\"orientation\":\"v\",\"showlegend\":true,\"textposition\":\"outside\",\"x\":[\"Long Beach\",\"Montebello\",\"Koreatown\",\"Lake Los Angeles\"],\"xaxis\":\"x\",\"y\":[11.2,1.3,4.1,1.5],\"yaxis\":\"y\",\"type\":\"bar\"},{\"alignmentgroup\":\"True\",\"hovertemplate\":\"variable=Native_Tribal<br>name=%{x}<br>value=%{y}<extra></extra>\",\"legendgroup\":\"Native_Tribal\",\"marker\":{\"color\":\"#EF553B\",\"pattern\":{\"shape\":\"\"}},\"name\":\"Native_Tribal\",\"offsetgroup\":\"Native_Tribal\",\"orientation\":\"v\",\"showlegend\":true,\"textposition\":\"outside\",\"x\":[\"Long Beach\",\"Montebello\",\"Koreatown\",\"Lake Los Angeles\"],\"xaxis\":\"x\",\"y\":[0.4,0.0,0.0,0.0],\"yaxis\":\"y\",\"type\":\"bar\"},{\"alignmentgroup\":\"True\",\"hovertemplate\":\"variable=Asian<br>name=%{x}<br>value=%{y}<extra></extra>\",\"legendgroup\":\"Asian\",\"marker\":{\"color\":\"#00cc96\",\"pattern\":{\"shape\":\"\"}},\"name\":\"Asian\",\"offsetgroup\":\"Asian\",\"orientation\":\"v\",\"showlegend\":true,\"textposition\":\"outside\",\"x\":[\"Long Beach\",\"Montebello\",\"Koreatown\",\"Lake Los Angeles\"],\"xaxis\":\"x\",\"y\":[8.2,0.7,24.8,2.2],\"yaxis\":\"y\",\"type\":\"bar\"},{\"alignmentgroup\":\"True\",\"hovertemplate\":\"variable=NHOPI<br>name=%{x}<br>value=%{y}<extra></extra>\",\"legendgroup\":\"NHOPI\",\"marker\":{\"color\":\"#ab63fa\",\"pattern\":{\"shape\":\"\"}},\"name\":\"NHOPI\",\"offsetgroup\":\"NHOPI\",\"orientation\":\"v\",\"showlegend\":true,\"textposition\":\"outside\",\"x\":[\"Long Beach\",\"Montebello\",\"Koreatown\",\"Lake Los Angeles\"],\"xaxis\":\"x\",\"y\":[0.0,0.0,0.8,0.0],\"yaxis\":\"y\",\"type\":\"bar\"},{\"alignmentgroup\":\"True\",\"hovertemplate\":\"variable=Other_Race<br>name=%{x}<br>value=%{y}<extra></extra>\",\"legendgroup\":\"Other_Race\",\"marker\":{\"color\":\"#FFA15A\",\"pattern\":{\"shape\":\"\"}},\"name\":\"Other_Race\",\"offsetgroup\":\"Other_Race\",\"orientation\":\"v\",\"showlegend\":true,\"textposition\":\"outside\",\"x\":[\"Long Beach\",\"Montebello\",\"Koreatown\",\"Lake Los Angeles\"],\"xaxis\":\"x\",\"y\":[0.0,0.0,0.6,0.7],\"yaxis\":\"y\",\"type\":\"bar\"}],                        {\"template\":{\"data\":{\"histogram2dcontour\":[{\"type\":\"histogram2dcontour\",\"colorbar\":{\"outlinewidth\":0,\"ticks\":\"\"},\"colorscale\":[[0.0,\"#0d0887\"],[0.1111111111111111,\"#46039f\"],[0.2222222222222222,\"#7201a8\"],[0.3333333333333333,\"#9c179e\"],[0.4444444444444444,\"#bd3786\"],[0.5555555555555556,\"#d8576b\"],[0.6666666666666666,\"#ed7953\"],[0.7777777777777778,\"#fb9f3a\"],[0.8888888888888888,\"#fdca26\"],[1.0,\"#f0f921\"]]}],\"choropleth\":[{\"type\":\"choropleth\",\"colorbar\":{\"outlinewidth\":0,\"ticks\":\"\"}}],\"histogram2d\":[{\"type\":\"histogram2d\",\"colorbar\":{\"outlinewidth\":0,\"ticks\":\"\"},\"colorscale\":[[0.0,\"#0d0887\"],[0.1111111111111111,\"#46039f\"],[0.2222222222222222,\"#7201a8\"],[0.3333333333333333,\"#9c179e\"],[0.4444444444444444,\"#bd3786\"],[0.5555555555555556,\"#d8576b\"],[0.6666666666666666,\"#ed7953\"],[0.7777777777777778,\"#fb9f3a\"],[0.8888888888888888,\"#fdca26\"],[1.0,\"#f0f921\"]]}],\"heatmap\":[{\"type\":\"heatmap\",\"colorbar\":{\"outlinewidth\":0,\"ticks\":\"\"},\"colorscale\":[[0.0,\"#0d0887\"],[0.1111111111111111,\"#46039f\"],[0.2222222222222222,\"#7201a8\"],[0.3333333333333333,\"#9c179e\"],[0.4444444444444444,\"#bd3786\"],[0.5555555555555556,\"#d8576b\"],[0.6666666666666666,\"#ed7953\"],[0.7777777777777778,\"#fb9f3a\"],[0.8888888888888888,\"#fdca26\"],[1.0,\"#f0f921\"]]}],\"heatmapgl\":[{\"type\":\"heatmapgl\",\"colorbar\":{\"outlinewidth\":0,\"ticks\":\"\"},\"colorscale\":[[0.0,\"#0d0887\"],[0.1111111111111111,\"#46039f\"],[0.2222222222222222,\"#7201a8\"],[0.3333333333333333,\"#9c179e\"],[0.4444444444444444,\"#bd3786\"],[0.5555555555555556,\"#d8576b\"],[0.6666666666666666,\"#ed7953\"],[0.7777777777777778,\"#fb9f3a\"],[0.8888888888888888,\"#fdca26\"],[1.0,\"#f0f921\"]]}],\"contourcarpet\":[{\"type\":\"contourcarpet\",\"colorbar\":{\"outlinewidth\":0,\"ticks\":\"\"}}],\"contour\":[{\"type\":\"contour\",\"colorbar\":{\"outlinewidth\":0,\"ticks\":\"\"},\"colorscale\":[[0.0,\"#0d0887\"],[0.1111111111111111,\"#46039f\"],[0.2222222222222222,\"#7201a8\"],[0.3333333333333333,\"#9c179e\"],[0.4444444444444444,\"#bd3786\"],[0.5555555555555556,\"#d8576b\"],[0.6666666666666666,\"#ed7953\"],[0.7777777777777778,\"#fb9f3a\"],[0.8888888888888888,\"#fdca26\"],[1.0,\"#f0f921\"]]}],\"surface\":[{\"type\":\"surface\",\"colorbar\":{\"outlinewidth\":0,\"ticks\":\"\"},\"colorscale\":[[0.0,\"#0d0887\"],[0.1111111111111111,\"#46039f\"],[0.2222222222222222,\"#7201a8\"],[0.3333333333333333,\"#9c179e\"],[0.4444444444444444,\"#bd3786\"],[0.5555555555555556,\"#d8576b\"],[0.6666666666666666,\"#ed7953\"],[0.7777777777777778,\"#fb9f3a\"],[0.8888888888888888,\"#fdca26\"],[1.0,\"#f0f921\"]]}],\"mesh3d\":[{\"type\":\"mesh3d\",\"colorbar\":{\"outlinewidth\":0,\"ticks\":\"\"}}],\"scatter\":[{\"fillpattern\":{\"fillmode\":\"overlay\",\"size\":10,\"solidity\":0.2},\"type\":\"scatter\"}],\"parcoords\":[{\"type\":\"parcoords\",\"line\":{\"colorbar\":{\"outlinewidth\":0,\"ticks\":\"\"}}}],\"scatterpolargl\":[{\"type\":\"scatterpolargl\",\"marker\":{\"colorbar\":{\"outlinewidth\":0,\"ticks\":\"\"}}}],\"bar\":[{\"error_x\":{\"color\":\"#2a3f5f\"},\"error_y\":{\"color\":\"#2a3f5f\"},\"marker\":{\"line\":{\"color\":\"#E5ECF6\",\"width\":0.5},\"pattern\":{\"fillmode\":\"overlay\",\"size\":10,\"solidity\":0.2}},\"type\":\"bar\"}],\"scattergeo\":[{\"type\":\"scattergeo\",\"marker\":{\"colorbar\":{\"outlinewidth\":0,\"ticks\":\"\"}}}],\"scatterpolar\":[{\"type\":\"scatterpolar\",\"marker\":{\"colorbar\":{\"outlinewidth\":0,\"ticks\":\"\"}}}],\"histogram\":[{\"marker\":{\"pattern\":{\"fillmode\":\"overlay\",\"size\":10,\"solidity\":0.2}},\"type\":\"histogram\"}],\"scattergl\":[{\"type\":\"scattergl\",\"marker\":{\"colorbar\":{\"outlinewidth\":0,\"ticks\":\"\"}}}],\"scatter3d\":[{\"type\":\"scatter3d\",\"line\":{\"colorbar\":{\"outlinewidth\":0,\"ticks\":\"\"}},\"marker\":{\"colorbar\":{\"outlinewidth\":0,\"ticks\":\"\"}}}],\"scattermapbox\":[{\"type\":\"scattermapbox\",\"marker\":{\"colorbar\":{\"outlinewidth\":0,\"ticks\":\"\"}}}],\"scatterternary\":[{\"type\":\"scatterternary\",\"marker\":{\"colorbar\":{\"outlinewidth\":0,\"ticks\":\"\"}}}],\"scattercarpet\":[{\"type\":\"scattercarpet\",\"marker\":{\"colorbar\":{\"outlinewidth\":0,\"ticks\":\"\"}}}],\"carpet\":[{\"aaxis\":{\"endlinecolor\":\"#2a3f5f\",\"gridcolor\":\"white\",\"linecolor\":\"white\",\"minorgridcolor\":\"white\",\"startlinecolor\":\"#2a3f5f\"},\"baxis\":{\"endlinecolor\":\"#2a3f5f\",\"gridcolor\":\"white\",\"linecolor\":\"white\",\"minorgridcolor\":\"white\",\"startlinecolor\":\"#2a3f5f\"},\"type\":\"carpet\"}],\"table\":[{\"cells\":{\"fill\":{\"color\":\"#EBF0F8\"},\"line\":{\"color\":\"white\"}},\"header\":{\"fill\":{\"color\":\"#C8D4E3\"},\"line\":{\"color\":\"white\"}},\"type\":\"table\"}],\"barpolar\":[{\"marker\":{\"line\":{\"color\":\"#E5ECF6\",\"width\":0.5},\"pattern\":{\"fillmode\":\"overlay\",\"size\":10,\"solidity\":0.2}},\"type\":\"barpolar\"}],\"pie\":[{\"automargin\":true,\"type\":\"pie\"}]},\"layout\":{\"autotypenumbers\":\"strict\",\"colorway\":[\"#636efa\",\"#EF553B\",\"#00cc96\",\"#ab63fa\",\"#FFA15A\",\"#19d3f3\",\"#FF6692\",\"#B6E880\",\"#FF97FF\",\"#FECB52\"],\"font\":{\"color\":\"#2a3f5f\"},\"hovermode\":\"closest\",\"hoverlabel\":{\"align\":\"left\"},\"paper_bgcolor\":\"white\",\"plot_bgcolor\":\"#E5ECF6\",\"polar\":{\"bgcolor\":\"#E5ECF6\",\"angularaxis\":{\"gridcolor\":\"white\",\"linecolor\":\"white\",\"ticks\":\"\"},\"radialaxis\":{\"gridcolor\":\"white\",\"linecolor\":\"white\",\"ticks\":\"\"}},\"ternary\":{\"bgcolor\":\"#E5ECF6\",\"aaxis\":{\"gridcolor\":\"white\",\"linecolor\":\"white\",\"ticks\":\"\"},\"baxis\":{\"gridcolor\":\"white\",\"linecolor\":\"white\",\"ticks\":\"\"},\"caxis\":{\"gridcolor\":\"white\",\"linecolor\":\"white\",\"ticks\":\"\"}},\"coloraxis\":{\"colorbar\":{\"outlinewidth\":0,\"ticks\":\"\"}},\"colorscale\":{\"sequential\":[[0.0,\"#0d0887\"],[0.1111111111111111,\"#46039f\"],[0.2222222222222222,\"#7201a8\"],[0.3333333333333333,\"#9c179e\"],[0.4444444444444444,\"#bd3786\"],[0.5555555555555556,\"#d8576b\"],[0.6666666666666666,\"#ed7953\"],[0.7777777777777778,\"#fb9f3a\"],[0.8888888888888888,\"#fdca26\"],[1.0,\"#f0f921\"]],\"sequentialminus\":[[0.0,\"#0d0887\"],[0.1111111111111111,\"#46039f\"],[0.2222222222222222,\"#7201a8\"],[0.3333333333333333,\"#9c179e\"],[0.4444444444444444,\"#bd3786\"],[0.5555555555555556,\"#d8576b\"],[0.6666666666666666,\"#ed7953\"],[0.7777777777777778,\"#fb9f3a\"],[0.8888888888888888,\"#fdca26\"],[1.0,\"#f0f921\"]],\"diverging\":[[0,\"#8e0152\"],[0.1,\"#c51b7d\"],[0.2,\"#de77ae\"],[0.3,\"#f1b6da\"],[0.4,\"#fde0ef\"],[0.5,\"#f7f7f7\"],[0.6,\"#e6f5d0\"],[0.7,\"#b8e186\"],[0.8,\"#7fbc41\"],[0.9,\"#4d9221\"],[1,\"#276419\"]]},\"xaxis\":{\"gridcolor\":\"white\",\"linecolor\":\"white\",\"ticks\":\"\",\"title\":{\"standoff\":15},\"zerolinecolor\":\"white\",\"automargin\":true,\"zerolinewidth\":2},\"yaxis\":{\"gridcolor\":\"white\",\"linecolor\":\"white\",\"ticks\":\"\",\"title\":{\"standoff\":15},\"zerolinecolor\":\"white\",\"automargin\":true,\"zerolinewidth\":2},\"scene\":{\"xaxis\":{\"backgroundcolor\":\"#E5ECF6\",\"gridcolor\":\"white\",\"linecolor\":\"white\",\"showbackground\":true,\"ticks\":\"\",\"zerolinecolor\":\"white\",\"gridwidth\":2},\"yaxis\":{\"backgroundcolor\":\"#E5ECF6\",\"gridcolor\":\"white\",\"linecolor\":\"white\",\"showbackground\":true,\"ticks\":\"\",\"zerolinecolor\":\"white\",\"gridwidth\":2},\"zaxis\":{\"backgroundcolor\":\"#E5ECF6\",\"gridcolor\":\"white\",\"linecolor\":\"white\",\"showbackground\":true,\"ticks\":\"\",\"zerolinecolor\":\"white\",\"gridwidth\":2}},\"shapedefaults\":{\"line\":{\"color\":\"#2a3f5f\"}},\"annotationdefaults\":{\"arrowcolor\":\"#2a3f5f\",\"arrowhead\":0,\"arrowwidth\":1},\"geo\":{\"bgcolor\":\"white\",\"landcolor\":\"#E5ECF6\",\"subunitcolor\":\"white\",\"showland\":true,\"showlakes\":true,\"lakecolor\":\"white\"},\"title\":{\"x\":0.05},\"mapbox\":{\"style\":\"light\"}}},\"xaxis\":{\"anchor\":\"y\",\"domain\":[0.0,1.0],\"title\":{\"text\":\"Highest SVI Census Tracts (by Neighborhood)\"}},\"yaxis\":{\"anchor\":\"x\",\"domain\":[0.0,1.0],\"title\":{\"text\":\"Population Percent (%)\"}},\"legend\":{\"title\":{\"text\":\"SVI Indicators\"},\"tracegroupgap\":0},\"margin\":{\"t\":60},\"barmode\":\"relative\",\"title\":{\"text\":\"Breakdown of SVI Indicators in Highest Risk Census Tracts/Neighborhoods\"}},                        {\"responsive\": true}                    ).then(function(){\n",
       "                            \n",
       "var gd = document.getElementById('27422aa6-1c89-49f6-ab0c-9e928286b67b');\n",
       "var x = new MutationObserver(function (mutations, observer) {{\n",
       "        var display = window.getComputedStyle(gd).display;\n",
       "        if (!display || display === 'none') {{\n",
       "            console.log([gd, 'removed!']);\n",
       "            Plotly.purge(gd);\n",
       "            observer.disconnect();\n",
       "        }}\n",
       "}});\n",
       "\n",
       "// Listen for the removal of the full notebook cells\n",
       "var notebookContainer = gd.closest('#notebook-container');\n",
       "if (notebookContainer) {{\n",
       "    x.observe(notebookContainer, {childList: true});\n",
       "}}\n",
       "\n",
       "// Listen for the clearing of the current output cell\n",
       "var outputEl = gd.closest('.output');\n",
       "if (outputEl) {{\n",
       "    x.observe(outputEl, {childList: true});\n",
       "}}\n",
       "\n",
       "                        })                };                });            </script>        </div>"
      ]
     },
     "metadata": {},
     "output_type": "display_data"
    }
   ],
   "source": [
    "# make a stacked bar chart\n",
    "fig = px.bar(featured,\n",
    "       x='name',\n",
    "       y=svi_indicators,\n",
    "      #color='grp_description', # this creates the \"stack\"\n",
    "        labels={'Social Vulnerability Indicators'})\n",
    "\n",
    "fig.update_traces(textposition='outside')\n",
    "#adding titles\n",
    "fig.update_layout(\n",
    "    title='Breakdown of SVI Indicators in Highest Risk Census Tracts/Neighborhoods',\n",
    "    yaxis=dict(title='Population Percent (%)'),\n",
    "    xaxis=dict(title='Highest SVI Census Tracts (by Neighborhood)'),\n",
    "    legend=dict(title='SVI Indicators')\n",
    "\n",
    ")\n",
    "\n",
    "fig.show()"
   ]
  },
  {
   "cell_type": "code",
   "execution_count": 39,
   "id": "4a1630b5-331c-40ef-ade6-8fc7d745db9c",
   "metadata": {},
   "outputs": [],
   "source": [
    "fig.write_html(\"SVI_stackedbar.html\")"
   ]
  },
  {
   "cell_type": "markdown",
   "id": "b071ee32-809a-48ad-bdef-d81a0e84e6d3",
   "metadata": {},
   "source": [
    "Quantitative analysis of this stacked bar chart was completed as part of our project and results are displayed in the Storymap portion of our project."
   ]
  },
  {
   "cell_type": "code",
   "execution_count": null,
   "id": "1542ffdf-7761-4c29-a8fd-02e4b00f53d5",
   "metadata": {},
   "outputs": [],
   "source": []
  }
 ],
 "metadata": {
  "kernelspec": {
   "display_name": "Python 3 (ipykernel)",
   "language": "python",
   "name": "python3"
  },
  "language_info": {
   "codemirror_mode": {
    "name": "ipython",
    "version": 3
   },
   "file_extension": ".py",
   "mimetype": "text/x-python",
   "name": "python",
   "nbconvert_exporter": "python",
   "pygments_lexer": "ipython3",
   "version": "3.10.8"
  }
 },
 "nbformat": 4,
 "nbformat_minor": 5
}
